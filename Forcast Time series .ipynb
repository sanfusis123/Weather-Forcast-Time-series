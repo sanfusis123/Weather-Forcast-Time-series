{
 "cells": [
  {
   "cell_type": "code",
   "execution_count": 1,
   "id": "e42d1727",
   "metadata": {},
   "outputs": [],
   "source": [
    "import matplotlib.pyplot as plt\n",
    "import numpy as np"
   ]
  },
  {
   "cell_type": "code",
   "execution_count": 2,
   "id": "97068c48",
   "metadata": {},
   "outputs": [],
   "source": [
    "import pandas as pd"
   ]
  },
  {
   "cell_type": "code",
   "execution_count": 3,
   "id": "70d74665",
   "metadata": {},
   "outputs": [],
   "source": [
    "t = pd.read_csv('fulldata.csv' , index_col=0)\n",
    "t = t.sort_values(by = ['datetime'])"
   ]
  },
  {
   "cell_type": "code",
   "execution_count": 4,
   "id": "980e695d",
   "metadata": {},
   "outputs": [
    {
     "data": {
      "text/html": [
       "<div>\n",
       "<style scoped>\n",
       "    .dataframe tbody tr th:only-of-type {\n",
       "        vertical-align: middle;\n",
       "    }\n",
       "\n",
       "    .dataframe tbody tr th {\n",
       "        vertical-align: top;\n",
       "    }\n",
       "\n",
       "    .dataframe thead th {\n",
       "        text-align: right;\n",
       "    }\n",
       "</style>\n",
       "<table border=\"1\" class=\"dataframe\">\n",
       "  <thead>\n",
       "    <tr style=\"text-align: right;\">\n",
       "      <th></th>\n",
       "      <th>name</th>\n",
       "      <th>datetime</th>\n",
       "      <th>temp</th>\n",
       "      <th>feelslike</th>\n",
       "      <th>dew</th>\n",
       "      <th>humidity</th>\n",
       "      <th>precip</th>\n",
       "      <th>precipprob</th>\n",
       "      <th>preciptype</th>\n",
       "      <th>snow</th>\n",
       "      <th>...</th>\n",
       "      <th>sealevelpressure</th>\n",
       "      <th>cloudcover</th>\n",
       "      <th>visibility</th>\n",
       "      <th>solarradiation</th>\n",
       "      <th>solarenergy</th>\n",
       "      <th>uvindex</th>\n",
       "      <th>severerisk</th>\n",
       "      <th>conditions</th>\n",
       "      <th>icon</th>\n",
       "      <th>stations</th>\n",
       "    </tr>\n",
       "  </thead>\n",
       "  <tbody>\n",
       "    <tr>\n",
       "      <th>0</th>\n",
       "      <td>delhi</td>\n",
       "      <td>2018-09-05T00:00:00</td>\n",
       "      <td>78.8</td>\n",
       "      <td>78.8</td>\n",
       "      <td>77.0</td>\n",
       "      <td>94.23</td>\n",
       "      <td>0.0</td>\n",
       "      <td>0</td>\n",
       "      <td>NaN</td>\n",
       "      <td>NaN</td>\n",
       "      <td>...</td>\n",
       "      <td>1003.0</td>\n",
       "      <td>88.9</td>\n",
       "      <td>1.2</td>\n",
       "      <td>0.0</td>\n",
       "      <td>0.0</td>\n",
       "      <td>0.0</td>\n",
       "      <td>NaN</td>\n",
       "      <td>Partially cloudy</td>\n",
       "      <td>partly-cloudy-night</td>\n",
       "      <td>VIDP,42181099999</td>\n",
       "    </tr>\n",
       "    <tr>\n",
       "      <th>1</th>\n",
       "      <td>delhi</td>\n",
       "      <td>2018-09-05T01:00:00</td>\n",
       "      <td>78.8</td>\n",
       "      <td>78.8</td>\n",
       "      <td>77.0</td>\n",
       "      <td>94.23</td>\n",
       "      <td>0.0</td>\n",
       "      <td>0</td>\n",
       "      <td>NaN</td>\n",
       "      <td>NaN</td>\n",
       "      <td>...</td>\n",
       "      <td>1004.0</td>\n",
       "      <td>88.9</td>\n",
       "      <td>1.2</td>\n",
       "      <td>0.0</td>\n",
       "      <td>0.0</td>\n",
       "      <td>0.0</td>\n",
       "      <td>NaN</td>\n",
       "      <td>Partially cloudy</td>\n",
       "      <td>partly-cloudy-night</td>\n",
       "      <td>VIDP,42181099999</td>\n",
       "    </tr>\n",
       "    <tr>\n",
       "      <th>2</th>\n",
       "      <td>delhi</td>\n",
       "      <td>2018-09-05T02:00:00</td>\n",
       "      <td>78.9</td>\n",
       "      <td>78.9</td>\n",
       "      <td>76.7</td>\n",
       "      <td>93.26</td>\n",
       "      <td>0.0</td>\n",
       "      <td>0</td>\n",
       "      <td>NaN</td>\n",
       "      <td>NaN</td>\n",
       "      <td>...</td>\n",
       "      <td>1002.0</td>\n",
       "      <td>67.0</td>\n",
       "      <td>1.2</td>\n",
       "      <td>0.0</td>\n",
       "      <td>0.0</td>\n",
       "      <td>0.0</td>\n",
       "      <td>NaN</td>\n",
       "      <td>Partially cloudy</td>\n",
       "      <td>partly-cloudy-night</td>\n",
       "      <td>42182099999,VIDP,42181099999</td>\n",
       "    </tr>\n",
       "    <tr>\n",
       "      <th>3</th>\n",
       "      <td>delhi</td>\n",
       "      <td>2018-09-05T03:00:00</td>\n",
       "      <td>78.8</td>\n",
       "      <td>78.8</td>\n",
       "      <td>78.8</td>\n",
       "      <td>100.00</td>\n",
       "      <td>0.0</td>\n",
       "      <td>0</td>\n",
       "      <td>NaN</td>\n",
       "      <td>NaN</td>\n",
       "      <td>...</td>\n",
       "      <td>1003.0</td>\n",
       "      <td>88.9</td>\n",
       "      <td>1.2</td>\n",
       "      <td>0.0</td>\n",
       "      <td>0.0</td>\n",
       "      <td>0.0</td>\n",
       "      <td>NaN</td>\n",
       "      <td>Partially cloudy</td>\n",
       "      <td>partly-cloudy-night</td>\n",
       "      <td>VIDP,42181099999</td>\n",
       "    </tr>\n",
       "    <tr>\n",
       "      <th>4</th>\n",
       "      <td>delhi</td>\n",
       "      <td>2018-09-05T04:00:00</td>\n",
       "      <td>78.8</td>\n",
       "      <td>78.8</td>\n",
       "      <td>78.8</td>\n",
       "      <td>100.00</td>\n",
       "      <td>0.0</td>\n",
       "      <td>0</td>\n",
       "      <td>NaN</td>\n",
       "      <td>NaN</td>\n",
       "      <td>...</td>\n",
       "      <td>1003.0</td>\n",
       "      <td>88.9</td>\n",
       "      <td>1.2</td>\n",
       "      <td>0.0</td>\n",
       "      <td>0.0</td>\n",
       "      <td>0.0</td>\n",
       "      <td>NaN</td>\n",
       "      <td>Partially cloudy</td>\n",
       "      <td>partly-cloudy-night</td>\n",
       "      <td>VIDP,42181099999</td>\n",
       "    </tr>\n",
       "  </tbody>\n",
       "</table>\n",
       "<p>5 rows × 24 columns</p>\n",
       "</div>"
      ],
      "text/plain": [
       "    name             datetime  temp  feelslike   dew  humidity  precip  \\\n",
       "0  delhi  2018-09-05T00:00:00  78.8       78.8  77.0     94.23     0.0   \n",
       "1  delhi  2018-09-05T01:00:00  78.8       78.8  77.0     94.23     0.0   \n",
       "2  delhi  2018-09-05T02:00:00  78.9       78.9  76.7     93.26     0.0   \n",
       "3  delhi  2018-09-05T03:00:00  78.8       78.8  78.8    100.00     0.0   \n",
       "4  delhi  2018-09-05T04:00:00  78.8       78.8  78.8    100.00     0.0   \n",
       "\n",
       "   precipprob preciptype  snow  ...  sealevelpressure  cloudcover  visibility  \\\n",
       "0           0        NaN   NaN  ...            1003.0        88.9         1.2   \n",
       "1           0        NaN   NaN  ...            1004.0        88.9         1.2   \n",
       "2           0        NaN   NaN  ...            1002.0        67.0         1.2   \n",
       "3           0        NaN   NaN  ...            1003.0        88.9         1.2   \n",
       "4           0        NaN   NaN  ...            1003.0        88.9         1.2   \n",
       "\n",
       "   solarradiation  solarenergy  uvindex  severerisk        conditions  \\\n",
       "0             0.0          0.0      0.0         NaN  Partially cloudy   \n",
       "1             0.0          0.0      0.0         NaN  Partially cloudy   \n",
       "2             0.0          0.0      0.0         NaN  Partially cloudy   \n",
       "3             0.0          0.0      0.0         NaN  Partially cloudy   \n",
       "4             0.0          0.0      0.0         NaN  Partially cloudy   \n",
       "\n",
       "                  icon                      stations  \n",
       "0  partly-cloudy-night              VIDP,42181099999  \n",
       "1  partly-cloudy-night              VIDP,42181099999  \n",
       "2  partly-cloudy-night  42182099999,VIDP,42181099999  \n",
       "3  partly-cloudy-night              VIDP,42181099999  \n",
       "4  partly-cloudy-night              VIDP,42181099999  \n",
       "\n",
       "[5 rows x 24 columns]"
      ]
     },
     "execution_count": 4,
     "metadata": {},
     "output_type": "execute_result"
    }
   ],
   "source": [
    "t = t.reset_index()\n",
    "t.drop('index' , axis = 1 ,inplace = True)\n",
    "t.head()"
   ]
  },
  {
   "cell_type": "code",
   "execution_count": 4,
   "id": "1f2785e1",
   "metadata": {},
   "outputs": [
    {
     "data": {
      "text/plain": [
       "name                    0\n",
       "datetime                0\n",
       "temp                    0\n",
       "feelslike               0\n",
       "dew                     0\n",
       "humidity                0\n",
       "precip                  0\n",
       "precipprob              0\n",
       "preciptype          25460\n",
       "snow                12720\n",
       "snowdepth           12642\n",
       "windgust            12289\n",
       "windspeed               0\n",
       "winddir                 0\n",
       "sealevelpressure      313\n",
       "cloudcover              0\n",
       "visibility            182\n",
       "solarradiation         77\n",
       "solarenergy            77\n",
       "uvindex                77\n",
       "severerisk          12642\n",
       "conditions              0\n",
       "icon                    0\n",
       "stations                0\n",
       "dtype: int64"
      ]
     },
     "execution_count": 4,
     "metadata": {},
     "output_type": "execute_result"
    }
   ],
   "source": [
    "data.isna().sum()"
   ]
  },
  {
   "cell_type": "code",
   "execution_count": 5,
   "id": "d5416324",
   "metadata": {},
   "outputs": [],
   "source": [
    "t.to_csv('ordered.csv')"
   ]
  },
  {
   "cell_type": "code",
   "execution_count": 6,
   "id": "9679a5d9",
   "metadata": {},
   "outputs": [],
   "source": [
    "data = pd.read_csv('ordered.csv' , index_col=0)"
   ]
  },
  {
   "cell_type": "code",
   "execution_count": 7,
   "id": "78d4892c",
   "metadata": {},
   "outputs": [
    {
     "data": {
      "text/html": [
       "<div>\n",
       "<style scoped>\n",
       "    .dataframe tbody tr th:only-of-type {\n",
       "        vertical-align: middle;\n",
       "    }\n",
       "\n",
       "    .dataframe tbody tr th {\n",
       "        vertical-align: top;\n",
       "    }\n",
       "\n",
       "    .dataframe thead th {\n",
       "        text-align: right;\n",
       "    }\n",
       "</style>\n",
       "<table border=\"1\" class=\"dataframe\">\n",
       "  <thead>\n",
       "    <tr style=\"text-align: right;\">\n",
       "      <th></th>\n",
       "      <th>name</th>\n",
       "      <th>datetime</th>\n",
       "      <th>temp</th>\n",
       "      <th>feelslike</th>\n",
       "      <th>dew</th>\n",
       "      <th>humidity</th>\n",
       "      <th>precip</th>\n",
       "      <th>precipprob</th>\n",
       "      <th>preciptype</th>\n",
       "      <th>snow</th>\n",
       "      <th>...</th>\n",
       "      <th>sealevelpressure</th>\n",
       "      <th>cloudcover</th>\n",
       "      <th>visibility</th>\n",
       "      <th>solarradiation</th>\n",
       "      <th>solarenergy</th>\n",
       "      <th>uvindex</th>\n",
       "      <th>severerisk</th>\n",
       "      <th>conditions</th>\n",
       "      <th>icon</th>\n",
       "      <th>stations</th>\n",
       "    </tr>\n",
       "    <tr>\n",
       "      <th>datetime</th>\n",
       "      <th></th>\n",
       "      <th></th>\n",
       "      <th></th>\n",
       "      <th></th>\n",
       "      <th></th>\n",
       "      <th></th>\n",
       "      <th></th>\n",
       "      <th></th>\n",
       "      <th></th>\n",
       "      <th></th>\n",
       "      <th></th>\n",
       "      <th></th>\n",
       "      <th></th>\n",
       "      <th></th>\n",
       "      <th></th>\n",
       "      <th></th>\n",
       "      <th></th>\n",
       "      <th></th>\n",
       "      <th></th>\n",
       "      <th></th>\n",
       "      <th></th>\n",
       "    </tr>\n",
       "  </thead>\n",
       "  <tbody>\n",
       "    <tr>\n",
       "      <th>2018-09-05 00:00:00</th>\n",
       "      <td>delhi</td>\n",
       "      <td>2018-09-05T00:00:00</td>\n",
       "      <td>78.8</td>\n",
       "      <td>78.8</td>\n",
       "      <td>77.0</td>\n",
       "      <td>94.23</td>\n",
       "      <td>0.0</td>\n",
       "      <td>0</td>\n",
       "      <td>NaN</td>\n",
       "      <td>NaN</td>\n",
       "      <td>...</td>\n",
       "      <td>1003.0</td>\n",
       "      <td>88.9</td>\n",
       "      <td>1.2</td>\n",
       "      <td>0.0</td>\n",
       "      <td>0.0</td>\n",
       "      <td>0.0</td>\n",
       "      <td>NaN</td>\n",
       "      <td>Partially cloudy</td>\n",
       "      <td>partly-cloudy-night</td>\n",
       "      <td>VIDP,42181099999</td>\n",
       "    </tr>\n",
       "    <tr>\n",
       "      <th>2018-09-05 01:00:00</th>\n",
       "      <td>delhi</td>\n",
       "      <td>2018-09-05T01:00:00</td>\n",
       "      <td>78.8</td>\n",
       "      <td>78.8</td>\n",
       "      <td>77.0</td>\n",
       "      <td>94.23</td>\n",
       "      <td>0.0</td>\n",
       "      <td>0</td>\n",
       "      <td>NaN</td>\n",
       "      <td>NaN</td>\n",
       "      <td>...</td>\n",
       "      <td>1004.0</td>\n",
       "      <td>88.9</td>\n",
       "      <td>1.2</td>\n",
       "      <td>0.0</td>\n",
       "      <td>0.0</td>\n",
       "      <td>0.0</td>\n",
       "      <td>NaN</td>\n",
       "      <td>Partially cloudy</td>\n",
       "      <td>partly-cloudy-night</td>\n",
       "      <td>VIDP,42181099999</td>\n",
       "    </tr>\n",
       "    <tr>\n",
       "      <th>2018-09-05 02:00:00</th>\n",
       "      <td>delhi</td>\n",
       "      <td>2018-09-05T02:00:00</td>\n",
       "      <td>78.9</td>\n",
       "      <td>78.9</td>\n",
       "      <td>76.7</td>\n",
       "      <td>93.26</td>\n",
       "      <td>0.0</td>\n",
       "      <td>0</td>\n",
       "      <td>NaN</td>\n",
       "      <td>NaN</td>\n",
       "      <td>...</td>\n",
       "      <td>1002.0</td>\n",
       "      <td>67.0</td>\n",
       "      <td>1.2</td>\n",
       "      <td>0.0</td>\n",
       "      <td>0.0</td>\n",
       "      <td>0.0</td>\n",
       "      <td>NaN</td>\n",
       "      <td>Partially cloudy</td>\n",
       "      <td>partly-cloudy-night</td>\n",
       "      <td>42182099999,VIDP,42181099999</td>\n",
       "    </tr>\n",
       "    <tr>\n",
       "      <th>2018-09-05 03:00:00</th>\n",
       "      <td>delhi</td>\n",
       "      <td>2018-09-05T03:00:00</td>\n",
       "      <td>78.8</td>\n",
       "      <td>78.8</td>\n",
       "      <td>78.8</td>\n",
       "      <td>100.00</td>\n",
       "      <td>0.0</td>\n",
       "      <td>0</td>\n",
       "      <td>NaN</td>\n",
       "      <td>NaN</td>\n",
       "      <td>...</td>\n",
       "      <td>1003.0</td>\n",
       "      <td>88.9</td>\n",
       "      <td>1.2</td>\n",
       "      <td>0.0</td>\n",
       "      <td>0.0</td>\n",
       "      <td>0.0</td>\n",
       "      <td>NaN</td>\n",
       "      <td>Partially cloudy</td>\n",
       "      <td>partly-cloudy-night</td>\n",
       "      <td>VIDP,42181099999</td>\n",
       "    </tr>\n",
       "    <tr>\n",
       "      <th>2018-09-05 04:00:00</th>\n",
       "      <td>delhi</td>\n",
       "      <td>2018-09-05T04:00:00</td>\n",
       "      <td>78.8</td>\n",
       "      <td>78.8</td>\n",
       "      <td>78.8</td>\n",
       "      <td>100.00</td>\n",
       "      <td>0.0</td>\n",
       "      <td>0</td>\n",
       "      <td>NaN</td>\n",
       "      <td>NaN</td>\n",
       "      <td>...</td>\n",
       "      <td>1003.0</td>\n",
       "      <td>88.9</td>\n",
       "      <td>1.2</td>\n",
       "      <td>0.0</td>\n",
       "      <td>0.0</td>\n",
       "      <td>0.0</td>\n",
       "      <td>NaN</td>\n",
       "      <td>Partially cloudy</td>\n",
       "      <td>partly-cloudy-night</td>\n",
       "      <td>VIDP,42181099999</td>\n",
       "    </tr>\n",
       "  </tbody>\n",
       "</table>\n",
       "<p>5 rows × 24 columns</p>\n",
       "</div>"
      ],
      "text/plain": [
       "                      name             datetime  temp  feelslike   dew  \\\n",
       "datetime                                                                 \n",
       "2018-09-05 00:00:00  delhi  2018-09-05T00:00:00  78.8       78.8  77.0   \n",
       "2018-09-05 01:00:00  delhi  2018-09-05T01:00:00  78.8       78.8  77.0   \n",
       "2018-09-05 02:00:00  delhi  2018-09-05T02:00:00  78.9       78.9  76.7   \n",
       "2018-09-05 03:00:00  delhi  2018-09-05T03:00:00  78.8       78.8  78.8   \n",
       "2018-09-05 04:00:00  delhi  2018-09-05T04:00:00  78.8       78.8  78.8   \n",
       "\n",
       "                     humidity  precip  precipprob preciptype  snow  ...  \\\n",
       "datetime                                                            ...   \n",
       "2018-09-05 00:00:00     94.23     0.0           0        NaN   NaN  ...   \n",
       "2018-09-05 01:00:00     94.23     0.0           0        NaN   NaN  ...   \n",
       "2018-09-05 02:00:00     93.26     0.0           0        NaN   NaN  ...   \n",
       "2018-09-05 03:00:00    100.00     0.0           0        NaN   NaN  ...   \n",
       "2018-09-05 04:00:00    100.00     0.0           0        NaN   NaN  ...   \n",
       "\n",
       "                     sealevelpressure  cloudcover  visibility  solarradiation  \\\n",
       "datetime                                                                        \n",
       "2018-09-05 00:00:00            1003.0        88.9         1.2             0.0   \n",
       "2018-09-05 01:00:00            1004.0        88.9         1.2             0.0   \n",
       "2018-09-05 02:00:00            1002.0        67.0         1.2             0.0   \n",
       "2018-09-05 03:00:00            1003.0        88.9         1.2             0.0   \n",
       "2018-09-05 04:00:00            1003.0        88.9         1.2             0.0   \n",
       "\n",
       "                     solarenergy  uvindex  severerisk        conditions  \\\n",
       "datetime                                                                  \n",
       "2018-09-05 00:00:00          0.0      0.0         NaN  Partially cloudy   \n",
       "2018-09-05 01:00:00          0.0      0.0         NaN  Partially cloudy   \n",
       "2018-09-05 02:00:00          0.0      0.0         NaN  Partially cloudy   \n",
       "2018-09-05 03:00:00          0.0      0.0         NaN  Partially cloudy   \n",
       "2018-09-05 04:00:00          0.0      0.0         NaN  Partially cloudy   \n",
       "\n",
       "                                    icon                      stations  \n",
       "datetime                                                                \n",
       "2018-09-05 00:00:00  partly-cloudy-night              VIDP,42181099999  \n",
       "2018-09-05 01:00:00  partly-cloudy-night              VIDP,42181099999  \n",
       "2018-09-05 02:00:00  partly-cloudy-night  42182099999,VIDP,42181099999  \n",
       "2018-09-05 03:00:00  partly-cloudy-night              VIDP,42181099999  \n",
       "2018-09-05 04:00:00  partly-cloudy-night              VIDP,42181099999  \n",
       "\n",
       "[5 rows x 24 columns]"
      ]
     },
     "execution_count": 7,
     "metadata": {},
     "output_type": "execute_result"
    }
   ],
   "source": [
    "data.index = pd.to_datetime(data['datetime'])\n",
    "data.head()"
   ]
  },
  {
   "cell_type": "code",
   "execution_count": 8,
   "id": "5bc3e801",
   "metadata": {},
   "outputs": [
    {
     "data": {
      "text/plain": [
       "name                    2\n",
       "datetime            43152\n",
       "temp                  723\n",
       "feelslike             893\n",
       "dew                   563\n",
       "humidity             7504\n",
       "precip                283\n",
       "precipprob              2\n",
       "preciptype              1\n",
       "snow                    1\n",
       "snowdepth               1\n",
       "windgust              175\n",
       "windspeed             205\n",
       "winddir              1295\n",
       "sealevelpressure      344\n",
       "cloudcover            870\n",
       "visibility             45\n",
       "solarradiation       5815\n",
       "solarenergy            39\n",
       "uvindex                11\n",
       "severerisk              6\n",
       "conditions              7\n",
       "icon                    8\n",
       "stations               41\n",
       "dtype: int64"
      ]
     },
     "execution_count": 8,
     "metadata": {},
     "output_type": "execute_result"
    }
   ],
   "source": [
    "data.nunique()"
   ]
  },
  {
   "cell_type": "code",
   "execution_count": 9,
   "id": "70169b8e",
   "metadata": {},
   "outputs": [
    {
     "data": {
      "text/plain": [
       "<Axes: xlabel='datetime'>"
      ]
     },
     "execution_count": 9,
     "metadata": {},
     "output_type": "execute_result"
    },
    {
     "data": {
      "image/png": "[encoded data removed]",
      "text/plain": [
       "<Figure size 640x480 with 1 Axes>"
      ]
     },
     "metadata": {},
     "output_type": "display_data"
    }
   ],
   "source": [
    "temp = data['temp']\n",
    "temp.plot()"
   ]
  },
  {
   "cell_type": "code",
   "execution_count": 10,
   "id": "9fd7e911",
   "metadata": {},
   "outputs": [
    {
     "data": {
      "text/plain": [
       "count    43152.000000\n",
       "mean        76.908799\n",
       "std         14.835940\n",
       "min         33.300000\n",
       "25%         65.900000\n",
       "50%         79.300000\n",
       "75%         87.800000\n",
       "max        117.400000\n",
       "Name: temp, dtype: float64"
      ]
     },
     "execution_count": 10,
     "metadata": {},
     "output_type": "execute_result"
    }
   ],
   "source": [
    "temp.describe()"
   ]
  },
  {
   "cell_type": "code",
   "execution_count": 69,
   "id": "5a7c9bb9",
   "metadata": {},
   "outputs": [],
   "source": [
    "means = np.mean(data['temp'])\n",
    "std = np.std(data['temp'])"
   ]
  },
  {
   "cell_type": "code",
   "execution_count": 70,
   "id": "fb30b004",
   "metadata": {},
   "outputs": [],
   "source": [
    "temp = (data['temp'] - means)/ std"
   ]
  },
  {
   "cell_type": "code",
   "execution_count": 71,
   "id": "009a9ea3",
   "metadata": {},
   "outputs": [
    {
     "data": {
      "text/plain": [
       "(76.90879912866147, 14.835767691250895)"
      ]
     },
     "execution_count": 71,
     "metadata": {},
     "output_type": "execute_result"
    }
   ],
   "source": [
    "means , std"
   ]
  },
  {
   "cell_type": "code",
   "execution_count": 72,
   "id": "d27fa925",
   "metadata": {},
   "outputs": [],
   "source": [
    "def dataframe_toXy(df , window_size = 5):\n",
    "    df_as_np = df.to_numpy()\n",
    "    X = []\n",
    "    y = []\n",
    "    for i in range(len(df_as_np)- window_size):\n",
    "        row = [[a] for a in df_as_np[i:i+window_size]]\n",
    "        X.append(row)\n",
    "        label = df_as_np[i+window_size]\n",
    "        y.append(label)\n",
    "    return np.array(X),np.array(y)    "
   ]
  },
  {
   "cell_type": "code",
   "execution_count": 73,
   "id": "0643ea5d",
   "metadata": {},
   "outputs": [
    {
     "data": {
      "text/plain": [
       "((43147, 5, 1), (43147,))"
      ]
     },
     "execution_count": 73,
     "metadata": {},
     "output_type": "execute_result"
    }
   ],
   "source": [
    "WINDOW_SIZE = 5\n",
    "X1, y1 = dataframe_toXy(temp)\n",
    "X1.shape , y1.shape"
   ]
  },
  {
   "cell_type": "code",
   "execution_count": 75,
   "id": "69255a13",
   "metadata": {},
   "outputs": [],
   "source": [
    "X_train , y_train = X1[:38000], y1[:38000]\n",
    "X_val , y_val = X1[38000:40000], y1[38000:40000]\n",
    "X_test , y_test = X1[40000:] , y1[40000:]"
   ]
  },
  {
   "cell_type": "code",
   "execution_count": 76,
   "id": "7da41396",
   "metadata": {},
   "outputs": [
    {
     "data": {
      "text/plain": [
       "((38000, 5, 1), (38000,), (2000, 5, 1), (2000,))"
      ]
     },
     "execution_count": 76,
     "metadata": {},
     "output_type": "execute_result"
    }
   ],
   "source": [
    "X_train.shape , y_train.shape , X_val.shape , y_val.shape"
   ]
  },
  {
   "cell_type": "code",
   "execution_count": 77,
   "id": "4e5446bf",
   "metadata": {},
   "outputs": [],
   "source": [
    "import tensorflow as tf"
   ]
  },
  {
   "cell_type": "code",
   "execution_count": 78,
   "id": "f5cc8462",
   "metadata": {},
   "outputs": [],
   "source": [
    "model = tf.keras.Sequential([\n",
    "    tf.keras.layers.Input((5,1)),\n",
    "    tf.keras.layers.LSTM(64),\n",
    "    tf.keras.layers.Dense(8,'relu'),\n",
    "    tf.keras.layers.Dense(1, 'linear')\n",
    "])\n"
   ]
  },
  {
   "cell_type": "code",
   "execution_count": 79,
   "id": "242acfa4",
   "metadata": {},
   "outputs": [
    {
     "name": "stdout",
     "output_type": "stream",
     "text": [
      "Model: \"sequential_4\"\n",
      "_________________________________________________________________\n",
      " Layer (type)                Output Shape              Param #   \n",
      "=================================================================\n",
      " lstm_5 (LSTM)               (None, 64)                16896     \n",
      "                                                                 \n",
      " dense_10 (Dense)            (None, 8)                 520       \n",
      "                                                                 \n",
      " dense_11 (Dense)            (None, 1)                 9         \n",
      "                                                                 \n",
      "=================================================================\n",
      "Total params: 17425 (68.07 KB)\n",
      "Trainable params: 17425 (68.07 KB)\n",
      "Non-trainable params: 0 (0.00 Byte)\n",
      "_________________________________________________________________\n"
     ]
    }
   ],
   "source": [
    "model.summary()"
   ]
  },
  {
   "cell_type": "code",
   "execution_count": 80,
   "id": "225e8748",
   "metadata": {},
   "outputs": [],
   "source": [
    "model.compile(loss = tf.keras.losses.MeanSquaredError(),\n",
    "             optimizer = tf.keras.optimizers.Adam(),\n",
    "             metrics = [tf.keras.metrics.RootMeanSquaredError()])"
   ]
  },
  {
   "cell_type": "code",
   "execution_count": 81,
   "id": "3727ab80",
   "metadata": {},
   "outputs": [
    {
     "data": {
      "text/plain": [
       "((2000, 5, 1), (2000,), (38000, 5, 1), (38000,))"
      ]
     },
     "execution_count": 81,
     "metadata": {},
     "output_type": "execute_result"
    }
   ],
   "source": [
    "X_val.shape , y_val.shape , X_train.shape , y_train.shape"
   ]
  },
  {
   "cell_type": "code",
   "execution_count": null,
   "id": "5ab5e9e9",
   "metadata": {},
   "outputs": [],
   "source": []
  },
  {
   "cell_type": "code",
   "execution_count": 82,
   "id": "66d28752",
   "metadata": {},
   "outputs": [
    {
     "name": "stdout",
     "output_type": "stream",
     "text": [
      "Epoch 1/5\n",
      "1188/1188 [==============================] - 7s 4ms/step - loss: 0.0675 - root_mean_squared_error: 0.2599 - val_loss: 0.0322 - val_root_mean_squared_error: 0.1794\n",
      "Epoch 2/5\n",
      "1188/1188 [==============================] - 4s 4ms/step - loss: 0.0320 - root_mean_squared_error: 0.1790 - val_loss: 0.0313 - val_root_mean_squared_error: 0.1769\n",
      "Epoch 3/5\n",
      "1188/1188 [==============================] - 4s 4ms/step - loss: 0.0307 - root_mean_squared_error: 0.1752 - val_loss: 0.0306 - val_root_mean_squared_error: 0.1748\n",
      "Epoch 4/5\n",
      "1188/1188 [==============================] - 4s 4ms/step - loss: 0.0299 - root_mean_squared_error: 0.1729 - val_loss: 0.0311 - val_root_mean_squared_error: 0.1765\n",
      "Epoch 5/5\n",
      "1188/1188 [==============================] - 4s 4ms/step - loss: 0.0287 - root_mean_squared_error: 0.1695 - val_loss: 0.0296 - val_root_mean_squared_error: 0.1721\n"
     ]
    },
    {
     "data": {
      "text/plain": [
       "<keras.src.callbacks.History at 0x1f969edbfa0>"
      ]
     },
     "execution_count": 82,
     "metadata": {},
     "output_type": "execute_result"
    }
   ],
   "source": [
    "model.fit(X_train , \n",
    "          y_train ,\n",
    "          validation_data = (X_val , y_val),\n",
    "          epochs = 5)"
   ]
  },
  {
   "cell_type": "code",
   "execution_count": 44,
   "id": "913b92fa",
   "metadata": {},
   "outputs": [
    {
     "name": "stdout",
     "output_type": "stream",
     "text": [
      "76/76 [==============================] - 0s 5ms/step - loss: 0.0289 - root_mean_squared_error: 0.1700\n"
     ]
    },
    {
     "data": {
      "text/plain": [
       "[0.028899408876895905, 0.16999825835227966]"
      ]
     },
     "execution_count": 44,
     "metadata": {},
     "output_type": "execute_result"
    }
   ],
   "source": [
    "model.evaluate(X_test , y_test)"
   ]
  },
  {
   "cell_type": "code",
   "execution_count": 83,
   "id": "20ef9d17",
   "metadata": {},
   "outputs": [
    {
     "name": "stdout",
     "output_type": "stream",
     "text": [
      "99/99 [==============================] - 1s 2ms/step\n"
     ]
    }
   ],
   "source": [
    " y_pred = model.predict(X_test)"
   ]
  },
  {
   "cell_type": "code",
   "execution_count": 23,
   "id": "99c532ad",
   "metadata": {},
   "outputs": [
    {
     "data": {
      "text/plain": [
       "array([[0.29357108]], dtype=float32)"
      ]
     },
     "execution_count": 23,
     "metadata": {},
     "output_type": "execute_result"
    }
   ],
   "source": [
    "y_pred[:1]"
   ]
  },
  {
   "cell_type": "code",
   "execution_count": 84,
   "id": "d8f3cc5e",
   "metadata": {},
   "outputs": [],
   "source": [
    "y_pred = tf.squeeze(y_pred)"
   ]
  },
  {
   "cell_type": "code",
   "execution_count": 85,
   "id": "ef392cbd",
   "metadata": {},
   "outputs": [
    {
     "data": {
      "text/plain": [
       "<Axes: >"
      ]
     },
     "execution_count": 85,
     "metadata": {},
     "output_type": "execute_result"
    },
    {
     "data": {
      "image/png": "[encoded data removed]",
      "text/plain": [
       "<Figure size 640x480 with 1 Axes>"
      ]
     },
     "metadata": {},
     "output_type": "display_data"
    }
   ],
   "source": [
    "pd.DataFrame({'y_pred' : y_pred[:100] , 'y_actual' : y_test[:100]}).plot()"
   ]
  },
  {
   "cell_type": "code",
   "execution_count": 86,
   "id": "97fd102d",
   "metadata": {},
   "outputs": [
    {
     "data": {
      "text/html": [
       "<div>\n",
       "<style scoped>\n",
       "    .dataframe tbody tr th:only-of-type {\n",
       "        vertical-align: middle;\n",
       "    }\n",
       "\n",
       "    .dataframe tbody tr th {\n",
       "        vertical-align: top;\n",
       "    }\n",
       "\n",
       "    .dataframe thead th {\n",
       "        text-align: right;\n",
       "    }\n",
       "</style>\n",
       "<table border=\"1\" class=\"dataframe\">\n",
       "  <thead>\n",
       "    <tr style=\"text-align: right;\">\n",
       "      <th></th>\n",
       "      <th>Temperature</th>\n",
       "      <th>seconds</th>\n",
       "    </tr>\n",
       "    <tr>\n",
       "      <th>datetime</th>\n",
       "      <th></th>\n",
       "      <th></th>\n",
       "    </tr>\n",
       "  </thead>\n",
       "  <tbody>\n",
       "    <tr>\n",
       "      <th>2018-09-05 00:00:00</th>\n",
       "      <td>78.8</td>\n",
       "      <td>1.536106e+09</td>\n",
       "    </tr>\n",
       "    <tr>\n",
       "      <th>2018-09-05 01:00:00</th>\n",
       "      <td>78.8</td>\n",
       "      <td>1.536109e+09</td>\n",
       "    </tr>\n",
       "    <tr>\n",
       "      <th>2018-09-05 02:00:00</th>\n",
       "      <td>78.9</td>\n",
       "      <td>1.536113e+09</td>\n",
       "    </tr>\n",
       "    <tr>\n",
       "      <th>2018-09-05 03:00:00</th>\n",
       "      <td>78.8</td>\n",
       "      <td>1.536116e+09</td>\n",
       "    </tr>\n",
       "    <tr>\n",
       "      <th>2018-09-05 04:00:00</th>\n",
       "      <td>78.8</td>\n",
       "      <td>1.536120e+09</td>\n",
       "    </tr>\n",
       "    <tr>\n",
       "      <th>...</th>\n",
       "      <td>...</td>\n",
       "      <td>...</td>\n",
       "    </tr>\n",
       "    <tr>\n",
       "      <th>2023-08-07 19:00:00</th>\n",
       "      <td>87.7</td>\n",
       "      <td>1.691435e+09</td>\n",
       "    </tr>\n",
       "    <tr>\n",
       "      <th>2023-08-07 20:00:00</th>\n",
       "      <td>85.9</td>\n",
       "      <td>1.691438e+09</td>\n",
       "    </tr>\n",
       "    <tr>\n",
       "      <th>2023-08-07 21:00:00</th>\n",
       "      <td>85.9</td>\n",
       "      <td>1.691442e+09</td>\n",
       "    </tr>\n",
       "    <tr>\n",
       "      <th>2023-08-07 22:00:00</th>\n",
       "      <td>85.9</td>\n",
       "      <td>1.691446e+09</td>\n",
       "    </tr>\n",
       "    <tr>\n",
       "      <th>2023-08-07 23:00:00</th>\n",
       "      <td>85.9</td>\n",
       "      <td>1.691449e+09</td>\n",
       "    </tr>\n",
       "  </tbody>\n",
       "</table>\n",
       "<p>43152 rows × 2 columns</p>\n",
       "</div>"
      ],
      "text/plain": [
       "                     Temperature       seconds\n",
       "datetime                                      \n",
       "2018-09-05 00:00:00         78.8  1.536106e+09\n",
       "2018-09-05 01:00:00         78.8  1.536109e+09\n",
       "2018-09-05 02:00:00         78.9  1.536113e+09\n",
       "2018-09-05 03:00:00         78.8  1.536116e+09\n",
       "2018-09-05 04:00:00         78.8  1.536120e+09\n",
       "...                          ...           ...\n",
       "2023-08-07 19:00:00         87.7  1.691435e+09\n",
       "2023-08-07 20:00:00         85.9  1.691438e+09\n",
       "2023-08-07 21:00:00         85.9  1.691442e+09\n",
       "2023-08-07 22:00:00         85.9  1.691446e+09\n",
       "2023-08-07 23:00:00         85.9  1.691449e+09\n",
       "\n",
       "[43152 rows x 2 columns]"
      ]
     },
     "execution_count": 86,
     "metadata": {},
     "output_type": "execute_result"
    }
   ],
   "source": [
    "temp_df = pd.DataFrame({'Temperature': data['temp']})\n",
    "temp_df['seconds'] = temp_df.index.map(pd.Timestamp.timestamp)\n",
    "temp_df"
   ]
  },
  {
   "cell_type": "code",
   "execution_count": 87,
   "id": "2fff2438",
   "metadata": {},
   "outputs": [
    {
     "data": {
      "text/html": [
       "<div>\n",
       "<style scoped>\n",
       "    .dataframe tbody tr th:only-of-type {\n",
       "        vertical-align: middle;\n",
       "    }\n",
       "\n",
       "    .dataframe tbody tr th {\n",
       "        vertical-align: top;\n",
       "    }\n",
       "\n",
       "    .dataframe thead th {\n",
       "        text-align: right;\n",
       "    }\n",
       "</style>\n",
       "<table border=\"1\" class=\"dataframe\">\n",
       "  <thead>\n",
       "    <tr style=\"text-align: right;\">\n",
       "      <th></th>\n",
       "      <th>Temperature</th>\n",
       "      <th>seconds</th>\n",
       "      <th>Day sin</th>\n",
       "      <th>Day cos</th>\n",
       "      <th>Year sin</th>\n",
       "      <th>Year cos</th>\n",
       "    </tr>\n",
       "    <tr>\n",
       "      <th>datetime</th>\n",
       "      <th></th>\n",
       "      <th></th>\n",
       "      <th></th>\n",
       "      <th></th>\n",
       "      <th></th>\n",
       "      <th></th>\n",
       "    </tr>\n",
       "  </thead>\n",
       "  <tbody>\n",
       "    <tr>\n",
       "      <th>2018-09-05 00:00:00</th>\n",
       "      <td>78.8</td>\n",
       "      <td>1.536106e+09</td>\n",
       "      <td>-2.940619e-12</td>\n",
       "      <td>1.000000</td>\n",
       "      <td>-0.897332</td>\n",
       "      <td>-0.441357</td>\n",
       "    </tr>\n",
       "    <tr>\n",
       "      <th>2018-09-05 01:00:00</th>\n",
       "      <td>78.8</td>\n",
       "      <td>1.536109e+09</td>\n",
       "      <td>2.588190e-01</td>\n",
       "      <td>0.965926</td>\n",
       "      <td>-0.897648</td>\n",
       "      <td>-0.440713</td>\n",
       "    </tr>\n",
       "    <tr>\n",
       "      <th>2018-09-05 02:00:00</th>\n",
       "      <td>78.9</td>\n",
       "      <td>1.536113e+09</td>\n",
       "      <td>5.000000e-01</td>\n",
       "      <td>0.866025</td>\n",
       "      <td>-0.897964</td>\n",
       "      <td>-0.440070</td>\n",
       "    </tr>\n",
       "    <tr>\n",
       "      <th>2018-09-05 03:00:00</th>\n",
       "      <td>78.8</td>\n",
       "      <td>1.536116e+09</td>\n",
       "      <td>7.071068e-01</td>\n",
       "      <td>0.707107</td>\n",
       "      <td>-0.898279</td>\n",
       "      <td>-0.439426</td>\n",
       "    </tr>\n",
       "    <tr>\n",
       "      <th>2018-09-05 04:00:00</th>\n",
       "      <td>78.8</td>\n",
       "      <td>1.536120e+09</td>\n",
       "      <td>8.660254e-01</td>\n",
       "      <td>0.500000</td>\n",
       "      <td>-0.898593</td>\n",
       "      <td>-0.438782</td>\n",
       "    </tr>\n",
       "  </tbody>\n",
       "</table>\n",
       "</div>"
      ],
      "text/plain": [
       "                     Temperature       seconds       Day sin   Day cos  \\\n",
       "datetime                                                                 \n",
       "2018-09-05 00:00:00         78.8  1.536106e+09 -2.940619e-12  1.000000   \n",
       "2018-09-05 01:00:00         78.8  1.536109e+09  2.588190e-01  0.965926   \n",
       "2018-09-05 02:00:00         78.9  1.536113e+09  5.000000e-01  0.866025   \n",
       "2018-09-05 03:00:00         78.8  1.536116e+09  7.071068e-01  0.707107   \n",
       "2018-09-05 04:00:00         78.8  1.536120e+09  8.660254e-01  0.500000   \n",
       "\n",
       "                     Year sin  Year cos  \n",
       "datetime                                 \n",
       "2018-09-05 00:00:00 -0.897332 -0.441357  \n",
       "2018-09-05 01:00:00 -0.897648 -0.440713  \n",
       "2018-09-05 02:00:00 -0.897964 -0.440070  \n",
       "2018-09-05 03:00:00 -0.898279 -0.439426  \n",
       "2018-09-05 04:00:00 -0.898593 -0.438782  "
      ]
     },
     "execution_count": 87,
     "metadata": {},
     "output_type": "execute_result"
    }
   ],
   "source": [
    "day = 60*60*24\n",
    "year = 365.2425*day\n",
    "\n",
    "temp_df['Day sin'] = np.sin(temp_df['seconds'] * (2* np.pi /day))\n",
    "temp_df['Day cos'] = np.cos(temp_df['seconds'] * (2* np.pi /day))\n",
    "temp_df['Year sin'] = np.sin(temp_df['seconds'] * (2* np.pi /year))\n",
    "temp_df['Year cos'] = np.cos(temp_df['seconds'] * (2* np.pi /year))\n",
    "temp_df.head()"
   ]
  },
  {
   "cell_type": "code",
   "execution_count": 88,
   "id": "cdab6a14",
   "metadata": {},
   "outputs": [],
   "source": [
    "temp_df.drop('seconds' , axis = 1 , inplace = True)"
   ]
  },
  {
   "cell_type": "code",
   "execution_count": 89,
   "id": "9faa2594",
   "metadata": {},
   "outputs": [
    {
     "data": {
      "text/html": [
       "<div>\n",
       "<style scoped>\n",
       "    .dataframe tbody tr th:only-of-type {\n",
       "        vertical-align: middle;\n",
       "    }\n",
       "\n",
       "    .dataframe tbody tr th {\n",
       "        vertical-align: top;\n",
       "    }\n",
       "\n",
       "    .dataframe thead th {\n",
       "        text-align: right;\n",
       "    }\n",
       "</style>\n",
       "<table border=\"1\" class=\"dataframe\">\n",
       "  <thead>\n",
       "    <tr style=\"text-align: right;\">\n",
       "      <th></th>\n",
       "      <th>Temperature</th>\n",
       "      <th>Day sin</th>\n",
       "      <th>Day cos</th>\n",
       "      <th>Year sin</th>\n",
       "      <th>Year cos</th>\n",
       "    </tr>\n",
       "    <tr>\n",
       "      <th>datetime</th>\n",
       "      <th></th>\n",
       "      <th></th>\n",
       "      <th></th>\n",
       "      <th></th>\n",
       "      <th></th>\n",
       "    </tr>\n",
       "  </thead>\n",
       "  <tbody>\n",
       "    <tr>\n",
       "      <th>2018-09-05 00:00:00</th>\n",
       "      <td>78.8</td>\n",
       "      <td>-2.940619e-12</td>\n",
       "      <td>1.000000</td>\n",
       "      <td>-0.897332</td>\n",
       "      <td>-0.441357</td>\n",
       "    </tr>\n",
       "    <tr>\n",
       "      <th>2018-09-05 01:00:00</th>\n",
       "      <td>78.8</td>\n",
       "      <td>2.588190e-01</td>\n",
       "      <td>0.965926</td>\n",
       "      <td>-0.897648</td>\n",
       "      <td>-0.440713</td>\n",
       "    </tr>\n",
       "    <tr>\n",
       "      <th>2018-09-05 02:00:00</th>\n",
       "      <td>78.9</td>\n",
       "      <td>5.000000e-01</td>\n",
       "      <td>0.866025</td>\n",
       "      <td>-0.897964</td>\n",
       "      <td>-0.440070</td>\n",
       "    </tr>\n",
       "    <tr>\n",
       "      <th>2018-09-05 03:00:00</th>\n",
       "      <td>78.8</td>\n",
       "      <td>7.071068e-01</td>\n",
       "      <td>0.707107</td>\n",
       "      <td>-0.898279</td>\n",
       "      <td>-0.439426</td>\n",
       "    </tr>\n",
       "    <tr>\n",
       "      <th>2018-09-05 04:00:00</th>\n",
       "      <td>78.8</td>\n",
       "      <td>8.660254e-01</td>\n",
       "      <td>0.500000</td>\n",
       "      <td>-0.898593</td>\n",
       "      <td>-0.438782</td>\n",
       "    </tr>\n",
       "  </tbody>\n",
       "</table>\n",
       "</div>"
      ],
      "text/plain": [
       "                     Temperature       Day sin   Day cos  Year sin  Year cos\n",
       "datetime                                                                    \n",
       "2018-09-05 00:00:00         78.8 -2.940619e-12  1.000000 -0.897332 -0.441357\n",
       "2018-09-05 01:00:00         78.8  2.588190e-01  0.965926 -0.897648 -0.440713\n",
       "2018-09-05 02:00:00         78.9  5.000000e-01  0.866025 -0.897964 -0.440070\n",
       "2018-09-05 03:00:00         78.8  7.071068e-01  0.707107 -0.898279 -0.439426\n",
       "2018-09-05 04:00:00         78.8  8.660254e-01  0.500000 -0.898593 -0.438782"
      ]
     },
     "execution_count": 89,
     "metadata": {},
     "output_type": "execute_result"
    }
   ],
   "source": [
    "temp_df.head()"
   ]
  },
  {
   "cell_type": "code",
   "execution_count": 90,
   "id": "b2ab3470",
   "metadata": {},
   "outputs": [],
   "source": [
    "def df_toXy(df, window_size = 6):\n",
    "    df_as_np = df.to_numpy()\n",
    "    X = []\n",
    "    y = []\n",
    "    for i in range(len(df_as_np)- window_size):\n",
    "        row = [r for r in df_as_np[i: i+window_size]]\n",
    "        X.append(row)\n",
    "        label = df_as_np[i+window_size][0]\n",
    "        y.append(label)\n",
    "    return np.array(X), np.array(y)    "
   ]
  },
  {
   "cell_type": "code",
   "execution_count": 91,
   "id": "280b9842",
   "metadata": {},
   "outputs": [
    {
     "data": {
      "text/plain": [
       "((43146, 6, 5), (43146,))"
      ]
     },
     "execution_count": 91,
     "metadata": {},
     "output_type": "execute_result"
    }
   ],
   "source": [
    "X2, y2 = df_toXy(temp_df)\n",
    "X2.shape , y2.shape"
   ]
  },
  {
   "cell_type": "code",
   "execution_count": 97,
   "id": "69c66fcb",
   "metadata": {},
   "outputs": [],
   "source": [
    "X2_train , y2_train = X2[:38000] , y2[:38000]\n",
    "X2_val , y2_val = X2[38000:40000] , y2[38000:40000]\n",
    "X2_test , y2_test = X2[40000:] , y2[40000:]"
   ]
  },
  {
   "cell_type": "code",
   "execution_count": 98,
   "id": "967cb045",
   "metadata": {},
   "outputs": [],
   "source": [
    "temp_mean = np.mean(X2_train[:,:,0])\n",
    "temp_std = np.std(X2_train[:,:,0])\n",
    "\n",
    "def processing(X):\n",
    "    X[:,:,0] = (X[:,:,0] - temp_mean) / temp_std\n",
    "    "
   ]
  },
  {
   "cell_type": "code",
   "execution_count": 99,
   "id": "d6b2bdc2",
   "metadata": {},
   "outputs": [],
   "source": [
    "processing(X2_train)\n",
    "processing(X2_val)\n",
    "processing(X2_test)"
   ]
  },
  {
   "cell_type": "code",
   "execution_count": 100,
   "id": "970847f3",
   "metadata": {},
   "outputs": [
    {
     "data": {
      "text/plain": [
       "array([[[ 1.35280096e-01, -2.94061904e-12,  1.00000000e+00,\n",
       "         -8.97331745e-01, -4.41356703e-01],\n",
       "        [ 1.35280096e-01,  2.58819045e-01,  9.65925826e-01,\n",
       "         -8.97647871e-01, -4.40713398e-01],\n",
       "        [ 1.41948615e-01,  5.00000000e-01,  8.66025404e-01,\n",
       "         -8.97963536e-01, -4.40069867e-01],\n",
       "        [ 1.35280096e-01,  7.07106781e-01,  7.07106781e-01,\n",
       "         -8.98278740e-01, -4.39426109e-01],\n",
       "        [ 1.35280096e-01,  8.66025404e-01,  5.00000000e-01,\n",
       "         -8.98593482e-01, -4.38782126e-01],\n",
       "        [ 1.35280096e-01,  9.65925826e-01,  2.58819045e-01,\n",
       "         -8.98907762e-01, -4.38137917e-01]],\n",
       "\n",
       "       [[ 1.35280096e-01,  2.58819045e-01,  9.65925826e-01,\n",
       "         -8.97647871e-01, -4.40713398e-01],\n",
       "        [ 1.41948615e-01,  5.00000000e-01,  8.66025404e-01,\n",
       "         -8.97963536e-01, -4.40069867e-01],\n",
       "        [ 1.35280096e-01,  7.07106781e-01,  7.07106781e-01,\n",
       "         -8.98278740e-01, -4.39426109e-01],\n",
       "        [ 1.35280096e-01,  8.66025404e-01,  5.00000000e-01,\n",
       "         -8.98593482e-01, -4.38782126e-01],\n",
       "        [ 1.35280096e-01,  9.65925826e-01,  2.58819045e-01,\n",
       "         -8.98907762e-01, -4.38137917e-01],\n",
       "        [ 1.52467502e-02,  1.00000000e+00,  5.50396320e-12,\n",
       "         -8.99221581e-01, -4.37493484e-01]],\n",
       "\n",
       "       [[ 1.41948615e-01,  5.00000000e-01,  8.66025404e-01,\n",
       "         -8.97963536e-01, -4.40069867e-01],\n",
       "        [ 1.35280096e-01,  7.07106781e-01,  7.07106781e-01,\n",
       "         -8.98278740e-01, -4.39426109e-01],\n",
       "        [ 1.35280096e-01,  8.66025404e-01,  5.00000000e-01,\n",
       "         -8.98593482e-01, -4.38782126e-01],\n",
       "        [ 1.35280096e-01,  9.65925826e-01,  2.58819045e-01,\n",
       "         -8.98907762e-01, -4.38137917e-01],\n",
       "        [ 1.52467502e-02,  1.00000000e+00,  5.50396320e-12,\n",
       "         -8.99221581e-01, -4.37493484e-01],\n",
       "        [ 1.52467502e-02,  9.65925826e-01, -2.58819045e-01,\n",
       "         -8.99534938e-01, -4.36848825e-01]],\n",
       "\n",
       "       [[ 1.35280096e-01,  7.07106781e-01,  7.07106781e-01,\n",
       "         -8.98278740e-01, -4.39426109e-01],\n",
       "        [ 1.35280096e-01,  8.66025404e-01,  5.00000000e-01,\n",
       "         -8.98593482e-01, -4.38782126e-01],\n",
       "        [ 1.35280096e-01,  9.65925826e-01,  2.58819045e-01,\n",
       "         -8.98907762e-01, -4.38137917e-01],\n",
       "        [ 1.52467502e-02,  1.00000000e+00,  5.50396320e-12,\n",
       "         -8.99221581e-01, -4.37493484e-01],\n",
       "        [ 1.52467502e-02,  9.65925826e-01, -2.58819045e-01,\n",
       "         -8.99534938e-01, -4.36848825e-01],\n",
       "        [-2.47643650e-02,  8.66025404e-01, -5.00000000e-01,\n",
       "         -8.99847832e-01, -4.36203942e-01]],\n",
       "\n",
       "       [[ 1.35280096e-01,  8.66025404e-01,  5.00000000e-01,\n",
       "         -8.98593482e-01, -4.38782126e-01],\n",
       "        [ 1.35280096e-01,  9.65925826e-01,  2.58819045e-01,\n",
       "         -8.98907762e-01, -4.38137917e-01],\n",
       "        [ 1.52467502e-02,  1.00000000e+00,  5.50396320e-12,\n",
       "         -8.99221581e-01, -4.37493484e-01],\n",
       "        [ 1.52467502e-02,  9.65925826e-01, -2.58819045e-01,\n",
       "         -8.99534938e-01, -4.36848825e-01],\n",
       "        [-2.47643650e-02,  8.66025404e-01, -5.00000000e-01,\n",
       "         -8.99847832e-01, -4.36203942e-01],\n",
       "        [ 1.52467502e-02,  7.07106781e-01, -7.07106781e-01,\n",
       "         -9.00160264e-01, -4.35558835e-01]]])"
      ]
     },
     "execution_count": 100,
     "metadata": {},
     "output_type": "execute_result"
    }
   ],
   "source": [
    "X2_train[:5]"
   ]
  },
  {
   "cell_type": "code",
   "execution_count": 101,
   "id": "46021998",
   "metadata": {},
   "outputs": [
    {
     "name": "stdout",
     "output_type": "stream",
     "text": [
      "Model: \"sequential_6\"\n",
      "_________________________________________________________________\n",
      " Layer (type)                Output Shape              Param #   \n",
      "=================================================================\n",
      " lstm_7 (LSTM)               (None, 64)                17920     \n",
      "                                                                 \n",
      " dense_14 (Dense)            (None, 8)                 520       \n",
      "                                                                 \n",
      " dense_15 (Dense)            (None, 1)                 9         \n",
      "                                                                 \n",
      "=================================================================\n",
      "Total params: 18449 (72.07 KB)\n",
      "Trainable params: 18449 (72.07 KB)\n",
      "Non-trainable params: 0 (0.00 Byte)\n",
      "_________________________________________________________________\n"
     ]
    }
   ],
   "source": [
    "model2 = tf.keras.Sequential([\n",
    "    tf.keras.layers.Input((6,5)),\n",
    "    tf.keras.layers.LSTM(64),\n",
    "    tf.keras.layers.Dense(8, 'relu'),\n",
    "    tf.keras.layers.Dense(1, 'linear')\n",
    "])\n",
    "\n",
    "model2.summary()"
   ]
  },
  {
   "cell_type": "code",
   "execution_count": 102,
   "id": "a285e83a",
   "metadata": {},
   "outputs": [],
   "source": [
    "model2.compile(loss = tf.keras.losses.MeanSquaredError(),\n",
    "              optimizer = tf.keras.optimizers.Adam(),\n",
    "              metrics = [tf.keras.metrics.RootMeanSquaredError()])"
   ]
  },
  {
   "cell_type": "code",
   "execution_count": 104,
   "id": "0705289d",
   "metadata": {},
   "outputs": [
    {
     "name": "stdout",
     "output_type": "stream",
     "text": [
      "Epoch 1/5\n",
      "1188/1188 [==============================] - 5s 4ms/step - loss: 4.3654 - root_mean_squared_error: 2.0894 - val_loss: 4.0778 - val_root_mean_squared_error: 2.0194\n",
      "Epoch 2/5\n",
      "1188/1188 [==============================] - 5s 4ms/step - loss: 4.2563 - root_mean_squared_error: 2.0631 - val_loss: 4.3830 - val_root_mean_squared_error: 2.0936\n",
      "Epoch 3/5\n",
      "1188/1188 [==============================] - 8s 7ms/step - loss: 4.2043 - root_mean_squared_error: 2.0504 - val_loss: 3.9158 - val_root_mean_squared_error: 1.9788\n",
      "Epoch 4/5\n",
      "1188/1188 [==============================] - 5s 4ms/step - loss: 4.1618 - root_mean_squared_error: 2.0400 - val_loss: 4.8010 - val_root_mean_squared_error: 2.1911\n",
      "Epoch 5/5\n",
      "1188/1188 [==============================] - 5s 4ms/step - loss: 4.0909 - root_mean_squared_error: 2.0226 - val_loss: 3.8940 - val_root_mean_squared_error: 1.9733\n"
     ]
    },
    {
     "data": {
      "text/plain": [
       "<keras.src.callbacks.History at 0x1f96ec49b70>"
      ]
     },
     "execution_count": 104,
     "metadata": {},
     "output_type": "execute_result"
    }
   ],
   "source": [
    "model2.fit(X2_train , y2_train ,\n",
    "            epochs = 5,\n",
    "            validation_data = (X2_val , y2_val))"
   ]
  },
  {
   "cell_type": "code",
   "execution_count": 105,
   "id": "f51a8cfc",
   "metadata": {},
   "outputs": [],
   "source": [
    "from sklearn.metrics import mean_squared_error as mse\n",
    "\n",
    "def plot_predictions1(model, X, y, start=0, end=100):\n",
    "  predictions = model.predict(X).flatten()\n",
    "  df = pd.DataFrame(data={'Predictions':predictions, 'Actuals':y})\n",
    "  plt.plot(df['Predictions'][start:end])\n",
    "  plt.plot(df['Actuals'][start:end])\n",
    "  return df, mse(y, predictions)"
   ]
  },
  {
   "cell_type": "code",
   "execution_count": 106,
   "id": "8cd9bad6",
   "metadata": {},
   "outputs": [
    {
     "name": "stdout",
     "output_type": "stream",
     "text": [
      "99/99 [==============================] - 1s 2ms/step\n"
     ]
    },
    {
     "data": {
      "text/plain": [
       "(      Predictions  Actuals\n",
       " 0       71.269333     71.6\n",
       " 1       69.933716     70.7\n",
       " 2       69.132507     71.6\n",
       " 3       69.171310     69.8\n",
       " 4       68.339386     71.2\n",
       " ...           ...      ...\n",
       " 3141    88.174683     87.7\n",
       " 3142    86.899216     85.9\n",
       " 3143    85.770782     85.9\n",
       " 3144    85.385117     85.9\n",
       " 3145    85.119064     85.9\n",
       " \n",
       " [3146 rows x 2 columns],\n",
       " 4.911285546501016)"
      ]
     },
     "execution_count": 106,
     "metadata": {},
     "output_type": "execute_result"
    },
    {
     "data": {
      "image/png": "[encoded data removed]",
      "text/plain": [
       "<Figure size 640x480 with 1 Axes>"
      ]
     },
     "metadata": {},
     "output_type": "display_data"
    }
   ],
   "source": [
    "plot_predictions1(model2, X2_test , y2_test)"
   ]
  },
  {
   "cell_type": "markdown",
   "id": "ffa7fa63",
   "metadata": {},
   "source": [
    "name                    2\n",
    "datetime            26424\n",
    "temp                  691\n",
    "feelslike             839\n",
    "dew                   552\n",
    "humidity             6167\n",
    "precip                221\n",
    "precipprob              2\n",
    "preciptype              1\n",
    "snow                    1\n",
    "snowdepth               1\n",
    "windgust              159\n",
    "windspeed             189\n",
    "winddir              1145\n",
    "sealevelpressure      336\n",
    "cloudcover            768\n",
    "visibility             45\n",
    "solarradiation       4292\n",
    "solarenergy            39\n",
    "uvindex                11\n",
    "severerisk              6\n",
    "conditions              7\n",
    "icon                    8\n",
    "stations               39\n",
    "dtype: int64"
   ]
  },
  {
   "cell_type": "code",
   "execution_count": 40,
   "id": "2196a90d",
   "metadata": {},
   "outputs": [],
   "source": [
    "p_temp_df = pd.concat([data['sealevelpressure'] , temp_df] , axis = 1)"
   ]
  },
  {
   "cell_type": "code",
   "execution_count": 41,
   "id": "16e8e41a",
   "metadata": {},
   "outputs": [
    {
     "data": {
      "text/html": [
       "<div>\n",
       "<style scoped>\n",
       "    .dataframe tbody tr th:only-of-type {\n",
       "        vertical-align: middle;\n",
       "    }\n",
       "\n",
       "    .dataframe tbody tr th {\n",
       "        vertical-align: top;\n",
       "    }\n",
       "\n",
       "    .dataframe thead th {\n",
       "        text-align: right;\n",
       "    }\n",
       "</style>\n",
       "<table border=\"1\" class=\"dataframe\">\n",
       "  <thead>\n",
       "    <tr style=\"text-align: right;\">\n",
       "      <th></th>\n",
       "      <th>sealevelpressure</th>\n",
       "      <th>Temperature</th>\n",
       "      <th>Day sin</th>\n",
       "      <th>Day cos</th>\n",
       "      <th>Year sin</th>\n",
       "      <th>Year cos</th>\n",
       "    </tr>\n",
       "    <tr>\n",
       "      <th>datetime</th>\n",
       "      <th></th>\n",
       "      <th></th>\n",
       "      <th></th>\n",
       "      <th></th>\n",
       "      <th></th>\n",
       "      <th></th>\n",
       "    </tr>\n",
       "  </thead>\n",
       "  <tbody>\n",
       "    <tr>\n",
       "      <th>2018-09-05 00:00:00</th>\n",
       "      <td>1003.0</td>\n",
       "      <td>78.8</td>\n",
       "      <td>-2.940619e-12</td>\n",
       "      <td>1.000000</td>\n",
       "      <td>-0.897332</td>\n",
       "      <td>-0.441357</td>\n",
       "    </tr>\n",
       "    <tr>\n",
       "      <th>2018-09-05 01:00:00</th>\n",
       "      <td>1004.0</td>\n",
       "      <td>78.8</td>\n",
       "      <td>2.588190e-01</td>\n",
       "      <td>0.965926</td>\n",
       "      <td>-0.897648</td>\n",
       "      <td>-0.440713</td>\n",
       "    </tr>\n",
       "    <tr>\n",
       "      <th>2018-09-05 02:00:00</th>\n",
       "      <td>1002.0</td>\n",
       "      <td>78.9</td>\n",
       "      <td>5.000000e-01</td>\n",
       "      <td>0.866025</td>\n",
       "      <td>-0.897964</td>\n",
       "      <td>-0.440070</td>\n",
       "    </tr>\n",
       "    <tr>\n",
       "      <th>2018-09-05 03:00:00</th>\n",
       "      <td>1003.0</td>\n",
       "      <td>78.8</td>\n",
       "      <td>7.071068e-01</td>\n",
       "      <td>0.707107</td>\n",
       "      <td>-0.898279</td>\n",
       "      <td>-0.439426</td>\n",
       "    </tr>\n",
       "    <tr>\n",
       "      <th>2018-09-05 04:00:00</th>\n",
       "      <td>1003.0</td>\n",
       "      <td>78.8</td>\n",
       "      <td>8.660254e-01</td>\n",
       "      <td>0.500000</td>\n",
       "      <td>-0.898593</td>\n",
       "      <td>-0.438782</td>\n",
       "    </tr>\n",
       "  </tbody>\n",
       "</table>\n",
       "</div>"
      ],
      "text/plain": [
       "                     sealevelpressure  Temperature       Day sin   Day cos  \\\n",
       "datetime                                                                     \n",
       "2018-09-05 00:00:00            1003.0         78.8 -2.940619e-12  1.000000   \n",
       "2018-09-05 01:00:00            1004.0         78.8  2.588190e-01  0.965926   \n",
       "2018-09-05 02:00:00            1002.0         78.9  5.000000e-01  0.866025   \n",
       "2018-09-05 03:00:00            1003.0         78.8  7.071068e-01  0.707107   \n",
       "2018-09-05 04:00:00            1003.0         78.8  8.660254e-01  0.500000   \n",
       "\n",
       "                     Year sin  Year cos  \n",
       "datetime                                 \n",
       "2018-09-05 00:00:00 -0.897332 -0.441357  \n",
       "2018-09-05 01:00:00 -0.897648 -0.440713  \n",
       "2018-09-05 02:00:00 -0.897964 -0.440070  \n",
       "2018-09-05 03:00:00 -0.898279 -0.439426  \n",
       "2018-09-05 04:00:00 -0.898593 -0.438782  "
      ]
     },
     "execution_count": 41,
     "metadata": {},
     "output_type": "execute_result"
    }
   ],
   "source": [
    "p_temp_df.head()"
   ]
  },
  {
   "cell_type": "code",
   "execution_count": 44,
   "id": "7ba619aa",
   "metadata": {},
   "outputs": [],
   "source": [
    "p_temp_df['sealevelpressure'].fillna( p_mean,inplace = True)"
   ]
  },
  {
   "cell_type": "code",
   "execution_count": 43,
   "id": "3a42bb98",
   "metadata": {},
   "outputs": [],
   "source": [
    "p_mean = np.mean(p_temp_df['sealevelpressure'])"
   ]
  },
  {
   "cell_type": "code",
   "execution_count": 45,
   "id": "2bdb5a79",
   "metadata": {},
   "outputs": [
    {
     "data": {
      "text/plain": [
       "sealevelpressure    0\n",
       "Temperature         0\n",
       "Day sin             0\n",
       "Day cos             0\n",
       "Year sin            0\n",
       "Year cos            0\n",
       "dtype: int64"
      ]
     },
     "execution_count": 45,
     "metadata": {},
     "output_type": "execute_result"
    }
   ],
   "source": [
    "p_temp_df.isna().sum()"
   ]
  },
  {
   "cell_type": "code",
   "execution_count": 46,
   "id": "3a38493e",
   "metadata": {},
   "outputs": [],
   "source": [
    "def df_toXy2(df, window_size = 6):\n",
    "    df_as_np = df.to_numpy()\n",
    "    X = []\n",
    "    y = []\n",
    "    for i in range(len(df_as_np)- window_size):\n",
    "        row = [r for r in df_as_np[i: i+window_size]]\n",
    "        X.append(row)\n",
    "        label = df_as_np[i+window_size][:2]\n",
    "        y.append(label)\n",
    "    return np.array(X), np.array(y)    "
   ]
  },
  {
   "cell_type": "code",
   "execution_count": 47,
   "id": "ac5997f8",
   "metadata": {},
   "outputs": [
    {
     "data": {
      "text/plain": [
       "((43146, 6, 6), (43146, 2))"
      ]
     },
     "execution_count": 47,
     "metadata": {},
     "output_type": "execute_result"
    }
   ],
   "source": [
    "X3, y3 = df_toXy2(p_temp_df)\n",
    "X3.shape, y3.shape"
   ]
  },
  {
   "cell_type": "code",
   "execution_count": 48,
   "id": "77e3ed43",
   "metadata": {},
   "outputs": [
    {
     "data": {
      "text/plain": [
       "((38000, 6, 6), (38000, 2), (2000, 6, 6), (2000, 2), (3146, 6, 6), (3146, 2))"
      ]
     },
     "execution_count": 48,
     "metadata": {},
     "output_type": "execute_result"
    }
   ],
   "source": [
    "X3_train, y3_train = X3[:38000], y3[:38000]\n",
    "X3_val, y3_val = X3[38000:40000], y3[38000:40000]\n",
    "X3_test, y3_test = X3[40000:], y3[40000:]\n",
    "X3_train.shape, y3_train.shape, X3_val.shape, y3_val.shape, X3_test.shape, y3_test.shape"
   ]
  },
  {
   "cell_type": "code",
   "execution_count": 49,
   "id": "bc5441ae",
   "metadata": {},
   "outputs": [
    {
     "data": {
      "text/plain": [
       "array([[1004. ,   77. ],\n",
       "       [1004. ,   77. ],\n",
       "       [1004.2,   76.4],\n",
       "       [1006. ,   77. ],\n",
       "       [1005. ,   78.8]])"
      ]
     },
     "execution_count": 49,
     "metadata": {},
     "output_type": "execute_result"
    }
   ],
   "source": [
    "y3_train[:5]"
   ]
  },
  {
   "cell_type": "code",
   "execution_count": 50,
   "id": "12b6be1f",
   "metadata": {},
   "outputs": [
    {
     "data": {
      "text/plain": [
       "array([[1003. , 1004. , 1002. , 1003. , 1003. , 1002.2],\n",
       "       [1004. , 1002. , 1003. , 1003. , 1002.2, 1004. ],\n",
       "       [1002. , 1003. , 1003. , 1002.2, 1004. , 1004. ],\n",
       "       ...,\n",
       "       [1023. , 1022. , 1023. , 1025.2, 1025. , 1025. ],\n",
       "       [1022. , 1023. , 1025.2, 1025. , 1025. , 1025. ],\n",
       "       [1023. , 1025.2, 1025. , 1025. , 1025. , 1025. ]])"
      ]
     },
     "execution_count": 50,
     "metadata": {},
     "output_type": "execute_result"
    }
   ],
   "source": [
    "X3_train[:,:,0]"
   ]
  },
  {
   "cell_type": "code",
   "execution_count": 51,
   "id": "ef82ebeb",
   "metadata": {},
   "outputs": [
    {
     "data": {
      "text/plain": [
       "(1008.9331077906213, 76.90879912866147, 6.936882673368586, 14.835767691250895)"
      ]
     },
     "execution_count": 51,
     "metadata": {},
     "output_type": "execute_result"
    }
   ],
   "source": [
    "p_mean =np.mean(p_temp_df['sealevelpressure'])\n",
    "t_mean =np.mean(p_temp_df['Temperature'])\n",
    "p_std =np.std(p_temp_df['sealevelpressure'])\n",
    "t_std =np.std(p_temp_df['Temperature'])\n",
    "p_mean , t_mean,p_std,t_std"
   ]
  },
  {
   "cell_type": "code",
   "execution_count": 52,
   "id": "91fc387a",
   "metadata": {},
   "outputs": [],
   "source": [
    "\n",
    "def preprocess3(X):\n",
    "  X[:, :, 0] = (X[:, :, 0] - p_mean) / p_std\n",
    "  X[:, :, 1] = (X[:, :, 1] - t_mean) / t_std\n",
    "\n",
    "def preprocess_output3(y):\n",
    "  y[:, 0] = (y[:, 0] - p_mean) / p_std\n",
    "  y[:, 1] = (y[:, 1] - t_mean) / t_std\n",
    "  return y"
   ]
  },
  {
   "cell_type": "code",
   "execution_count": 53,
   "id": "d0866688",
   "metadata": {},
   "outputs": [],
   "source": [
    "preprocess3(X3_train)\n",
    "preprocess3(X3_val)\n",
    "preprocess3(X3_test)"
   ]
  },
  {
   "cell_type": "code",
   "execution_count": 54,
   "id": "d3910e64",
   "metadata": {},
   "outputs": [
    {
     "data": {
      "text/plain": [
       "(38000, 6, 6)"
      ]
     },
     "execution_count": 54,
     "metadata": {},
     "output_type": "execute_result"
    }
   ],
   "source": [
    "X3_train.shape"
   ]
  },
  {
   "cell_type": "code",
   "execution_count": 55,
   "id": "f6331995",
   "metadata": {},
   "outputs": [
    {
     "data": {
      "text/plain": [
       "array([[ 0.29795692, -0.35783784],\n",
       "       [ 0.18263134, -0.41850205],\n",
       "       [ 0.15379995, -0.35783784],\n",
       "       ...,\n",
       "       [-1.43192674,  0.60604891],\n",
       "       [-1.43192674,  0.60604891],\n",
       "       [-1.43192674,  0.60604891]])"
      ]
     },
     "execution_count": 55,
     "metadata": {},
     "output_type": "execute_result"
    }
   ],
   "source": [
    "preprocess_output3(y3_train)\n",
    "preprocess_output3(y3_val)\n",
    "preprocess_output3(y3_test)"
   ]
  },
  {
   "cell_type": "code",
   "execution_count": 56,
   "id": "8724e5d2",
   "metadata": {},
   "outputs": [
    {
     "data": {
      "text/plain": [
       "-2.8158336691509804"
      ]
     },
     "execution_count": 56,
     "metadata": {},
     "output_type": "execute_result"
    }
   ],
   "source": [
    "np.min(X3[:,:,0])"
   ]
  },
  {
   "cell_type": "code",
   "execution_count": 57,
   "id": "4afa287b",
   "metadata": {},
   "outputs": [],
   "source": [
    "import tensorflow as tf"
   ]
  },
  {
   "cell_type": "code",
   "execution_count": 58,
   "id": "58cd4dc5",
   "metadata": {},
   "outputs": [
    {
     "name": "stdout",
     "output_type": "stream",
     "text": [
      "Model: \"sequential_2\"\n",
      "_________________________________________________________________\n",
      " Layer (type)                Output Shape              Param #   \n",
      "=================================================================\n",
      " lstm_4 (LSTM)               (None, 6, 64)             18176     \n",
      "                                                                 \n",
      " conv1d_2 (Conv1D)           (None, 2, 10)             1290      \n",
      "                                                                 \n",
      " global_average_pooling1d_2  (None, 10)                0         \n",
      "  (GlobalAveragePooling1D)                                       \n",
      "                                                                 \n",
      " dense_6 (Dense)             (None, 8)                 88        \n",
      "                                                                 \n",
      " dense_7 (Dense)             (None, 2)                 18        \n",
      "                                                                 \n",
      "=================================================================\n",
      "Total params: 19572 (76.45 KB)\n",
      "Trainable params: 19572 (76.45 KB)\n",
      "Non-trainable params: 0 (0.00 Byte)\n",
      "_________________________________________________________________\n"
     ]
    }
   ],
   "source": [
    "model3 = tf.keras.Sequential([\n",
    "    tf.keras.layers.Input(shape = (6,6), name = 'inputlayer'),\n",
    "    tf.keras.layers.LSTM(64, return_sequences = True),\n",
    "    tf.keras.layers.Conv1D(10,2,3),\n",
    "    tf.keras.layers.GlobalAveragePooling1D(),\n",
    "    tf.keras.layers.Dense(8, 'relu'),\n",
    "    tf.keras.layers.Dense(2, 'linear')\n",
    "])\n",
    "\n",
    "model3.summary()"
   ]
  },
  {
   "cell_type": "code",
   "execution_count": 59,
   "id": "cde07c0d",
   "metadata": {},
   "outputs": [],
   "source": [
    "model3.compile(loss = tf.keras.losses.MeanSquaredError(),\n",
    "              optimizer = tf.keras.optimizers.Adam(),\n",
    "              metrics = [tf.keras.metrics.RootMeanSquaredError()])"
   ]
  },
  {
   "cell_type": "code",
   "execution_count": 60,
   "id": "1293009d",
   "metadata": {},
   "outputs": [
    {
     "name": "stdout",
     "output_type": "stream",
     "text": [
      "Epoch 1/10\n",
      "1188/1188 [==============================] - 7s 4ms/step - loss: 0.0584 - root_mean_squared_error: 0.2416\n",
      "Epoch 2/10\n",
      "1188/1188 [==============================] - 5s 4ms/step - loss: 0.0291 - root_mean_squared_error: 0.1707\n",
      "Epoch 3/10\n",
      "1188/1188 [==============================] - 5s 4ms/step - loss: 0.0257 - root_mean_squared_error: 0.1603\n",
      "Epoch 4/10\n",
      "1188/1188 [==============================] - 5s 4ms/step - loss: 0.0244 - root_mean_squared_error: 0.1561\n",
      "Epoch 5/10\n",
      "1188/1188 [==============================] - 5s 4ms/step - loss: 0.0235 - root_mean_squared_error: 0.1534\n",
      "Epoch 6/10\n",
      "1188/1188 [==============================] - 5s 4ms/step - loss: 0.0231 - root_mean_squared_error: 0.1518\n",
      "Epoch 7/10\n",
      "1188/1188 [==============================] - 5s 4ms/step - loss: 0.0228 - root_mean_squared_error: 0.1512\n",
      "Epoch 8/10\n",
      "1188/1188 [==============================] - 5s 4ms/step - loss: 0.0224 - root_mean_squared_error: 0.1498\n",
      "Epoch 9/10\n",
      "1188/1188 [==============================] - 5s 4ms/step - loss: 0.0222 - root_mean_squared_error: 0.1490\n",
      "Epoch 10/10\n",
      "1188/1188 [==============================] - 5s 4ms/step - loss: 0.0222 - root_mean_squared_error: 0.1489\n"
     ]
    },
    {
     "data": {
      "text/plain": [
       "<keras.src.callbacks.History at 0x1f9618ac970>"
      ]
     },
     "execution_count": 60,
     "metadata": {},
     "output_type": "execute_result"
    }
   ],
   "source": [
    "model3.fit(X3_train , y3_train ,epochs = 10)"
   ]
  },
  {
   "cell_type": "code",
   "execution_count": 61,
   "id": "0c13a290",
   "metadata": {},
   "outputs": [
    {
     "data": {
      "text/plain": [
       "(38000, 6, 6)"
      ]
     },
     "execution_count": 61,
     "metadata": {},
     "output_type": "execute_result"
    }
   ],
   "source": [
    "X3_train.shape"
   ]
  },
  {
   "cell_type": "code",
   "execution_count": 62,
   "id": "96ac2e8b",
   "metadata": {},
   "outputs": [
    {
     "data": {
      "text/plain": [
       "(38000, 2)"
      ]
     },
     "execution_count": 62,
     "metadata": {},
     "output_type": "execute_result"
    }
   ],
   "source": [
    "y3_train.shape"
   ]
  },
  {
   "cell_type": "code",
   "execution_count": 63,
   "id": "32918942",
   "metadata": {},
   "outputs": [],
   "source": [
    "def plot_predictions2(model, X, y, start=0, end=100):\n",
    "  predictions = model.predict(X)\n",
    "  p_preds, temp_preds = predictions[:, 0], predictions[:, 1]\n",
    "  p_actuals, temp_actuals = y[:, 0], y[:, 1]\n",
    "  df = pd.DataFrame(data={'Temperature Predictions': temp_preds,\n",
    "                          'Temperature Actuals':temp_actuals,\n",
    "                          'Pressure Predictions': p_preds,\n",
    "                          'Pressure Actuals': p_actuals\n",
    "                          })\n",
    "  plt.plot(df['Temperature Predictions'][start:end])\n",
    "  plt.plot(df['Temperature Actuals'][start:end])\n",
    "  plt.plot(df['Pressure Predictions'][start:end])\n",
    "  plt.plot(df['Pressure Actuals'][start:end])\n",
    "  plt.legend()  \n",
    "  return df[start:end]"
   ]
  },
  {
   "cell_type": "code",
   "execution_count": 64,
   "id": "afb4bbc7",
   "metadata": {},
   "outputs": [
    {
     "name": "stdout",
     "output_type": "stream",
     "text": [
      "99/99 [==============================] - 1s 2ms/step\n"
     ]
    },
    {
     "name": "stderr",
     "output_type": "stream",
     "text": [
      "No artists with labels found to put in legend.  Note that artists whose label start with an underscore are ignored when legend() is called with no argument.\n"
     ]
    },
    {
     "data": {
      "text/html": [
       "<div>\n",
       "<style scoped>\n",
       "    .dataframe tbody tr th:only-of-type {\n",
       "        vertical-align: middle;\n",
       "    }\n",
       "\n",
       "    .dataframe tbody tr th {\n",
       "        vertical-align: top;\n",
       "    }\n",
       "\n",
       "    .dataframe thead th {\n",
       "        text-align: right;\n",
       "    }\n",
       "</style>\n",
       "<table border=\"1\" class=\"dataframe\">\n",
       "  <thead>\n",
       "    <tr style=\"text-align: right;\">\n",
       "      <th></th>\n",
       "      <th>Temperature Predictions</th>\n",
       "      <th>Temperature Actuals</th>\n",
       "      <th>Pressure Predictions</th>\n",
       "      <th>Pressure Actuals</th>\n",
       "    </tr>\n",
       "  </thead>\n",
       "  <tbody>\n",
       "    <tr>\n",
       "      <th>0</th>\n",
       "      <td>-0.475778</td>\n",
       "      <td>-0.357838</td>\n",
       "      <td>0.421442</td>\n",
       "      <td>0.297957</td>\n",
       "    </tr>\n",
       "    <tr>\n",
       "      <th>1</th>\n",
       "      <td>-0.599405</td>\n",
       "      <td>-0.418502</td>\n",
       "      <td>0.281557</td>\n",
       "      <td>0.182631</td>\n",
       "    </tr>\n",
       "    <tr>\n",
       "      <th>2</th>\n",
       "      <td>-0.464709</td>\n",
       "      <td>-0.357838</td>\n",
       "      <td>0.285492</td>\n",
       "      <td>0.153800</td>\n",
       "    </tr>\n",
       "    <tr>\n",
       "      <th>3</th>\n",
       "      <td>-0.546721</td>\n",
       "      <td>-0.479166</td>\n",
       "      <td>0.192604</td>\n",
       "      <td>0.153800</td>\n",
       "    </tr>\n",
       "    <tr>\n",
       "      <th>4</th>\n",
       "      <td>-0.630404</td>\n",
       "      <td>-0.384800</td>\n",
       "      <td>0.090345</td>\n",
       "      <td>0.009643</td>\n",
       "    </tr>\n",
       "    <tr>\n",
       "      <th>...</th>\n",
       "      <td>...</td>\n",
       "      <td>...</td>\n",
       "      <td>...</td>\n",
       "      <td>...</td>\n",
       "    </tr>\n",
       "    <tr>\n",
       "      <th>95</th>\n",
       "      <td>-0.041832</td>\n",
       "      <td>0.006147</td>\n",
       "      <td>-0.037098</td>\n",
       "      <td>-0.134514</td>\n",
       "    </tr>\n",
       "    <tr>\n",
       "      <th>96</th>\n",
       "      <td>-0.159662</td>\n",
       "      <td>-0.236509</td>\n",
       "      <td>-0.103528</td>\n",
       "      <td>-0.134514</td>\n",
       "    </tr>\n",
       "    <tr>\n",
       "      <th>97</th>\n",
       "      <td>-0.301660</td>\n",
       "      <td>-0.405021</td>\n",
       "      <td>-0.229918</td>\n",
       "      <td>-0.321918</td>\n",
       "    </tr>\n",
       "    <tr>\n",
       "      <th>98</th>\n",
       "      <td>-0.320927</td>\n",
       "      <td>-0.115181</td>\n",
       "      <td>-0.138713</td>\n",
       "      <td>-0.278671</td>\n",
       "    </tr>\n",
       "    <tr>\n",
       "      <th>99</th>\n",
       "      <td>-0.515878</td>\n",
       "      <td>-0.236509</td>\n",
       "      <td>-0.221540</td>\n",
       "      <td>-0.278671</td>\n",
       "    </tr>\n",
       "  </tbody>\n",
       "</table>\n",
       "<p>100 rows × 4 columns</p>\n",
       "</div>"
      ],
      "text/plain": [
       "    Temperature Predictions  Temperature Actuals  Pressure Predictions  \\\n",
       "0                 -0.475778            -0.357838              0.421442   \n",
       "1                 -0.599405            -0.418502              0.281557   \n",
       "2                 -0.464709            -0.357838              0.285492   \n",
       "3                 -0.546721            -0.479166              0.192604   \n",
       "4                 -0.630404            -0.384800              0.090345   \n",
       "..                      ...                  ...                   ...   \n",
       "95                -0.041832             0.006147             -0.037098   \n",
       "96                -0.159662            -0.236509             -0.103528   \n",
       "97                -0.301660            -0.405021             -0.229918   \n",
       "98                -0.320927            -0.115181             -0.138713   \n",
       "99                -0.515878            -0.236509             -0.221540   \n",
       "\n",
       "    Pressure Actuals  \n",
       "0           0.297957  \n",
       "1           0.182631  \n",
       "2           0.153800  \n",
       "3           0.153800  \n",
       "4           0.009643  \n",
       "..               ...  \n",
       "95         -0.134514  \n",
       "96         -0.134514  \n",
       "97         -0.321918  \n",
       "98         -0.278671  \n",
       "99         -0.278671  \n",
       "\n",
       "[100 rows x 4 columns]"
      ]
     },
     "execution_count": 64,
     "metadata": {},
     "output_type": "execute_result"
    },
    {
     "data": {
      "image/png": "[encoded data removed]",
      "text/plain": [
       "<Figure size 640x480 with 1 Axes>"
      ]
     },
     "metadata": {},
     "output_type": "display_data"
    }
   ],
   "source": [
    "plot_predictions2(model3 , X3_test , y3_test)"
   ]
  },
  {
   "cell_type": "code",
   "execution_count": null,
   "id": "6385f063",
   "metadata": {},
   "outputs": [],
   "source": []
  },
  {
   "cell_type": "code",
   "execution_count": 16,
   "id": "980d8570",
   "metadata": {},
   "outputs": [],
   "source": [
    "multivriate = pd.concat([data['sealevelpressure'], data['dew'] , data['humidity'] , data['windspeed'], data['winddir'] , data['cloudcover'] , temp_df] , axis = 1)"
   ]
  },
  {
   "cell_type": "code",
   "execution_count": 17,
   "id": "3efa0d89",
   "metadata": {},
   "outputs": [
    {
     "data": {
      "text/html": [
       "<div>\n",
       "<style scoped>\n",
       "    .dataframe tbody tr th:only-of-type {\n",
       "        vertical-align: middle;\n",
       "    }\n",
       "\n",
       "    .dataframe tbody tr th {\n",
       "        vertical-align: top;\n",
       "    }\n",
       "\n",
       "    .dataframe thead th {\n",
       "        text-align: right;\n",
       "    }\n",
       "</style>\n",
       "<table border=\"1\" class=\"dataframe\">\n",
       "  <thead>\n",
       "    <tr style=\"text-align: right;\">\n",
       "      <th></th>\n",
       "      <th>sealevelpressure</th>\n",
       "      <th>dew</th>\n",
       "      <th>humidity</th>\n",
       "      <th>windspeed</th>\n",
       "      <th>winddir</th>\n",
       "      <th>cloudcover</th>\n",
       "      <th>Temperature</th>\n",
       "      <th>Day sin</th>\n",
       "      <th>Day cos</th>\n",
       "      <th>Year sin</th>\n",
       "      <th>Year cos</th>\n",
       "    </tr>\n",
       "    <tr>\n",
       "      <th>datetime</th>\n",
       "      <th></th>\n",
       "      <th></th>\n",
       "      <th></th>\n",
       "      <th></th>\n",
       "      <th></th>\n",
       "      <th></th>\n",
       "      <th></th>\n",
       "      <th></th>\n",
       "      <th></th>\n",
       "      <th></th>\n",
       "      <th></th>\n",
       "    </tr>\n",
       "  </thead>\n",
       "  <tbody>\n",
       "    <tr>\n",
       "      <th>2018-09-05 00:00:00</th>\n",
       "      <td>1003.0</td>\n",
       "      <td>77.0</td>\n",
       "      <td>94.23</td>\n",
       "      <td>0.0</td>\n",
       "      <td>0.0</td>\n",
       "      <td>88.9</td>\n",
       "      <td>78.8</td>\n",
       "      <td>-2.940619e-12</td>\n",
       "      <td>1.000000</td>\n",
       "      <td>-0.897332</td>\n",
       "      <td>-0.441357</td>\n",
       "    </tr>\n",
       "    <tr>\n",
       "      <th>2018-09-05 01:00:00</th>\n",
       "      <td>1004.0</td>\n",
       "      <td>77.0</td>\n",
       "      <td>94.23</td>\n",
       "      <td>3.4</td>\n",
       "      <td>260.0</td>\n",
       "      <td>88.9</td>\n",
       "      <td>78.8</td>\n",
       "      <td>2.588190e-01</td>\n",
       "      <td>0.965926</td>\n",
       "      <td>-0.897648</td>\n",
       "      <td>-0.440713</td>\n",
       "    </tr>\n",
       "    <tr>\n",
       "      <th>2018-09-05 02:00:00</th>\n",
       "      <td>1002.0</td>\n",
       "      <td>76.7</td>\n",
       "      <td>93.26</td>\n",
       "      <td>0.8</td>\n",
       "      <td>270.0</td>\n",
       "      <td>67.0</td>\n",
       "      <td>78.9</td>\n",
       "      <td>5.000000e-01</td>\n",
       "      <td>0.866025</td>\n",
       "      <td>-0.897964</td>\n",
       "      <td>-0.440070</td>\n",
       "    </tr>\n",
       "    <tr>\n",
       "      <th>2018-09-05 03:00:00</th>\n",
       "      <td>1003.0</td>\n",
       "      <td>78.8</td>\n",
       "      <td>100.00</td>\n",
       "      <td>3.4</td>\n",
       "      <td>250.0</td>\n",
       "      <td>88.9</td>\n",
       "      <td>78.8</td>\n",
       "      <td>7.071068e-01</td>\n",
       "      <td>0.707107</td>\n",
       "      <td>-0.898279</td>\n",
       "      <td>-0.439426</td>\n",
       "    </tr>\n",
       "    <tr>\n",
       "      <th>2018-09-05 04:00:00</th>\n",
       "      <td>1003.0</td>\n",
       "      <td>78.8</td>\n",
       "      <td>100.00</td>\n",
       "      <td>3.4</td>\n",
       "      <td>280.0</td>\n",
       "      <td>88.9</td>\n",
       "      <td>78.8</td>\n",
       "      <td>8.660254e-01</td>\n",
       "      <td>0.500000</td>\n",
       "      <td>-0.898593</td>\n",
       "      <td>-0.438782</td>\n",
       "    </tr>\n",
       "  </tbody>\n",
       "</table>\n",
       "</div>"
      ],
      "text/plain": [
       "                     sealevelpressure   dew  humidity  windspeed  winddir  \\\n",
       "datetime                                                                    \n",
       "2018-09-05 00:00:00            1003.0  77.0     94.23        0.0      0.0   \n",
       "2018-09-05 01:00:00            1004.0  77.0     94.23        3.4    260.0   \n",
       "2018-09-05 02:00:00            1002.0  76.7     93.26        0.8    270.0   \n",
       "2018-09-05 03:00:00            1003.0  78.8    100.00        3.4    250.0   \n",
       "2018-09-05 04:00:00            1003.0  78.8    100.00        3.4    280.0   \n",
       "\n",
       "                     cloudcover  Temperature       Day sin   Day cos  \\\n",
       "datetime                                                               \n",
       "2018-09-05 00:00:00        88.9         78.8 -2.940619e-12  1.000000   \n",
       "2018-09-05 01:00:00        88.9         78.8  2.588190e-01  0.965926   \n",
       "2018-09-05 02:00:00        67.0         78.9  5.000000e-01  0.866025   \n",
       "2018-09-05 03:00:00        88.9         78.8  7.071068e-01  0.707107   \n",
       "2018-09-05 04:00:00        88.9         78.8  8.660254e-01  0.500000   \n",
       "\n",
       "                     Year sin  Year cos  \n",
       "datetime                                 \n",
       "2018-09-05 00:00:00 -0.897332 -0.441357  \n",
       "2018-09-05 01:00:00 -0.897648 -0.440713  \n",
       "2018-09-05 02:00:00 -0.897964 -0.440070  \n",
       "2018-09-05 03:00:00 -0.898279 -0.439426  \n",
       "2018-09-05 04:00:00 -0.898593 -0.438782  "
      ]
     },
     "execution_count": 17,
     "metadata": {},
     "output_type": "execute_result"
    }
   ],
   "source": [
    "multivriate.head()"
   ]
  },
  {
   "cell_type": "code",
   "execution_count": 18,
   "id": "553612d7",
   "metadata": {},
   "outputs": [
    {
     "data": {
      "text/plain": [
       "sealevelpressure    588\n",
       "dew                   0\n",
       "humidity              0\n",
       "windspeed             0\n",
       "winddir               0\n",
       "cloudcover            0\n",
       "Temperature           0\n",
       "Day sin               0\n",
       "Day cos               0\n",
       "Year sin              0\n",
       "Year cos              0\n",
       "dtype: int64"
      ]
     },
     "execution_count": 18,
     "metadata": {},
     "output_type": "execute_result"
    }
   ],
   "source": [
    "multivriate.isna().sum()"
   ]
  },
  {
   "cell_type": "code",
   "execution_count": 19,
   "id": "67710997",
   "metadata": {},
   "outputs": [],
   "source": [
    "multivriate.fillna(np.mean(data['sealevelpressure']) ,  inplace = True)"
   ]
  },
  {
   "cell_type": "code",
   "execution_count": 20,
   "id": "c11ff1c8",
   "metadata": {},
   "outputs": [
    {
     "data": {
      "text/plain": [
       "sealevelpressure    0\n",
       "dew                 0\n",
       "humidity            0\n",
       "windspeed           0\n",
       "winddir             0\n",
       "cloudcover          0\n",
       "Temperature         0\n",
       "Day sin             0\n",
       "Day cos             0\n",
       "Year sin            0\n",
       "Year cos            0\n",
       "dtype: int64"
      ]
     },
     "execution_count": 20,
     "metadata": {},
     "output_type": "execute_result"
    }
   ],
   "source": [
    "multivriate.isna().sum()"
   ]
  },
  {
   "cell_type": "code",
   "execution_count": 21,
   "id": "18ee84e3",
   "metadata": {},
   "outputs": [],
   "source": [
    "multivriate['sealevelpressure'] = (multivriate['sealevelpressure'] - np.mean(multivriate['sealevelpressure'])) / np.std(multivriate['sealevelpressure'])"
   ]
  },
  {
   "cell_type": "code",
   "execution_count": 22,
   "id": "8faf6e59",
   "metadata": {},
   "outputs": [],
   "source": [
    "multivriate['dew'] = (multivriate['dew'] - np.mean(multivriate['dew'])) / np.std(multivriate['dew'])\n",
    "multivriate['humidity'] = (multivriate['humidity'] - np.mean(multivriate['humidity'])) / np.std(multivriate['humidity'])\n",
    "multivriate['winddir'] = np.cos(multivriate['winddir'])\n",
    "multivriate['windspeed'] = (multivriate['windspeed'] - np.mean(multivriate['windspeed'])) / np.std(multivriate['windspeed'])\n",
    "multivriate['cloudcover'] = (multivriate['cloudcover'] - np.mean(multivriate['cloudcover'])) / np.std(multivriate['cloudcover'])\n",
    "multivriate['Temperature'] = (multivriate['Temperature'] - np.mean(multivriate['Temperature'])) / np.std(multivriate['Temperature'])\n",
    "\n"
   ]
  },
  {
   "cell_type": "code",
   "execution_count": 23,
   "id": "3d26cfec",
   "metadata": {},
   "outputs": [
    {
     "data": {
      "text/html": [
       "<div>\n",
       "<style scoped>\n",
       "    .dataframe tbody tr th:only-of-type {\n",
       "        vertical-align: middle;\n",
       "    }\n",
       "\n",
       "    .dataframe tbody tr th {\n",
       "        vertical-align: top;\n",
       "    }\n",
       "\n",
       "    .dataframe thead th {\n",
       "        text-align: right;\n",
       "    }\n",
       "</style>\n",
       "<table border=\"1\" class=\"dataframe\">\n",
       "  <thead>\n",
       "    <tr style=\"text-align: right;\">\n",
       "      <th></th>\n",
       "      <th>sealevelpressure</th>\n",
       "      <th>dew</th>\n",
       "      <th>humidity</th>\n",
       "      <th>windspeed</th>\n",
       "      <th>winddir</th>\n",
       "      <th>cloudcover</th>\n",
       "      <th>Temperature</th>\n",
       "      <th>Day sin</th>\n",
       "      <th>Day cos</th>\n",
       "      <th>Year sin</th>\n",
       "      <th>Year cos</th>\n",
       "    </tr>\n",
       "    <tr>\n",
       "      <th>datetime</th>\n",
       "      <th></th>\n",
       "      <th></th>\n",
       "      <th></th>\n",
       "      <th></th>\n",
       "      <th></th>\n",
       "      <th></th>\n",
       "      <th></th>\n",
       "      <th></th>\n",
       "      <th></th>\n",
       "      <th></th>\n",
       "      <th></th>\n",
       "    </tr>\n",
       "  </thead>\n",
       "  <tbody>\n",
       "    <tr>\n",
       "      <th>2018-09-05 00:00:00</th>\n",
       "      <td>-0.855299</td>\n",
       "      <td>1.229106</td>\n",
       "      <td>1.250829</td>\n",
       "      <td>-1.303365</td>\n",
       "      <td>1.000000</td>\n",
       "      <td>1.621473</td>\n",
       "      <td>0.127476</td>\n",
       "      <td>-2.940619e-12</td>\n",
       "      <td>1.000000</td>\n",
       "      <td>-0.897332</td>\n",
       "      <td>-0.441357</td>\n",
       "    </tr>\n",
       "    <tr>\n",
       "      <th>2018-09-05 01:00:00</th>\n",
       "      <td>-0.711142</td>\n",
       "      <td>1.229106</td>\n",
       "      <td>1.250829</td>\n",
       "      <td>-0.308495</td>\n",
       "      <td>-0.730194</td>\n",
       "      <td>1.621473</td>\n",
       "      <td>0.127476</td>\n",
       "      <td>2.588190e-01</td>\n",
       "      <td>0.965926</td>\n",
       "      <td>-0.897648</td>\n",
       "      <td>-0.440713</td>\n",
       "    </tr>\n",
       "    <tr>\n",
       "      <th>2018-09-05 02:00:00</th>\n",
       "      <td>-0.999456</td>\n",
       "      <td>1.205139</td>\n",
       "      <td>1.209436</td>\n",
       "      <td>-1.069278</td>\n",
       "      <td>0.984382</td>\n",
       "      <td>0.953624</td>\n",
       "      <td>0.134216</td>\n",
       "      <td>5.000000e-01</td>\n",
       "      <td>0.866025</td>\n",
       "      <td>-0.897964</td>\n",
       "      <td>-0.440070</td>\n",
       "    </tr>\n",
       "    <tr>\n",
       "      <th>2018-09-05 03:00:00</th>\n",
       "      <td>-0.855299</td>\n",
       "      <td>1.372907</td>\n",
       "      <td>1.497054</td>\n",
       "      <td>-0.308495</td>\n",
       "      <td>0.240988</td>\n",
       "      <td>1.621473</td>\n",
       "      <td>0.127476</td>\n",
       "      <td>7.071068e-01</td>\n",
       "      <td>0.707107</td>\n",
       "      <td>-0.898279</td>\n",
       "      <td>-0.439426</td>\n",
       "    </tr>\n",
       "    <tr>\n",
       "      <th>2018-09-05 04:00:00</th>\n",
       "      <td>-0.855299</td>\n",
       "      <td>1.372907</td>\n",
       "      <td>1.497054</td>\n",
       "      <td>-0.308495</td>\n",
       "      <td>-0.921740</td>\n",
       "      <td>1.621473</td>\n",
       "      <td>0.127476</td>\n",
       "      <td>8.660254e-01</td>\n",
       "      <td>0.500000</td>\n",
       "      <td>-0.898593</td>\n",
       "      <td>-0.438782</td>\n",
       "    </tr>\n",
       "  </tbody>\n",
       "</table>\n",
       "</div>"
      ],
      "text/plain": [
       "                     sealevelpressure       dew  humidity  windspeed  \\\n",
       "datetime                                                               \n",
       "2018-09-05 00:00:00         -0.855299  1.229106  1.250829  -1.303365   \n",
       "2018-09-05 01:00:00         -0.711142  1.229106  1.250829  -0.308495   \n",
       "2018-09-05 02:00:00         -0.999456  1.205139  1.209436  -1.069278   \n",
       "2018-09-05 03:00:00         -0.855299  1.372907  1.497054  -0.308495   \n",
       "2018-09-05 04:00:00         -0.855299  1.372907  1.497054  -0.308495   \n",
       "\n",
       "                      winddir  cloudcover  Temperature       Day sin  \\\n",
       "datetime                                                               \n",
       "2018-09-05 00:00:00  1.000000    1.621473     0.127476 -2.940619e-12   \n",
       "2018-09-05 01:00:00 -0.730194    1.621473     0.127476  2.588190e-01   \n",
       "2018-09-05 02:00:00  0.984382    0.953624     0.134216  5.000000e-01   \n",
       "2018-09-05 03:00:00  0.240988    1.621473     0.127476  7.071068e-01   \n",
       "2018-09-05 04:00:00 -0.921740    1.621473     0.127476  8.660254e-01   \n",
       "\n",
       "                      Day cos  Year sin  Year cos  \n",
       "datetime                                           \n",
       "2018-09-05 00:00:00  1.000000 -0.897332 -0.441357  \n",
       "2018-09-05 01:00:00  0.965926 -0.897648 -0.440713  \n",
       "2018-09-05 02:00:00  0.866025 -0.897964 -0.440070  \n",
       "2018-09-05 03:00:00  0.707107 -0.898279 -0.439426  \n",
       "2018-09-05 04:00:00  0.500000 -0.898593 -0.438782  "
      ]
     },
     "execution_count": 23,
     "metadata": {},
     "output_type": "execute_result"
    }
   ],
   "source": [
    "multivriate.head()"
   ]
  },
  {
   "cell_type": "code",
   "execution_count": 24,
   "id": "831470cb",
   "metadata": {},
   "outputs": [],
   "source": [
    "def dfm_toXy(df , window_size = 5):\n",
    "    df_as_np = df.to_numpy()\n",
    "    X = []\n",
    "    y = []\n",
    "    for i in range(len(df) - window_size):\n",
    "        row = [r for r in df_as_np[i:i+window_size]]\n",
    "        X.append(row)\n",
    "        label = df_as_np[i+window_size][:7]\n",
    "        y.append(label)\n",
    "    return np.array(X) , np.array(y)    "
   ]
  },
  {
   "cell_type": "code",
   "execution_count": 25,
   "id": "a0defde8",
   "metadata": {},
   "outputs": [],
   "source": [
    "X4 , y4 = dfm_toXy(multivriate)"
   ]
  },
  {
   "cell_type": "code",
   "execution_count": 26,
   "id": "5b24cdb1",
   "metadata": {},
   "outputs": [],
   "source": [
    "import tensorflow as tf"
   ]
  },
  {
   "cell_type": "code",
   "execution_count": 27,
   "id": "258c7210",
   "metadata": {},
   "outputs": [
    {
     "data": {
      "text/plain": [
       "((43147, 5, 11), (43147, 7))"
      ]
     },
     "execution_count": 27,
     "metadata": {},
     "output_type": "execute_result"
    }
   ],
   "source": [
    "X4.shape ,y4.shape"
   ]
  },
  {
   "cell_type": "code",
   "execution_count": 32,
   "id": "994a960d",
   "metadata": {},
   "outputs": [],
   "source": [
    "X4_train , y4_train = X4[:38000] , y4[:38000]\n",
    "X4_val , y4_val = X4[38000:40000] , y4[38000:40000]\n",
    "X4_test , y4_test = X4[40000:] , y4[40000:]"
   ]
  },
  {
   "cell_type": "code",
   "execution_count": 33,
   "id": "e3c152f7",
   "metadata": {},
   "outputs": [
    {
     "name": "stdout",
     "output_type": "stream",
     "text": [
      "Model: \"sequential_1\"\n",
      "_________________________________________________________________\n",
      " Layer (type)                Output Shape              Param #   \n",
      "=================================================================\n",
      " lstm_2 (LSTM)               (None, 5, 128)            71680     \n",
      "                                                                 \n",
      " lstm_3 (LSTM)               (None, 5, 64)             49408     \n",
      "                                                                 \n",
      " conv1d_1 (Conv1D)           (None, 2, 10)             1930      \n",
      "                                                                 \n",
      " global_average_pooling1d_1  (None, 10)                0         \n",
      "  (GlobalAveragePooling1D)                                       \n",
      "                                                                 \n",
      " dense_3 (Dense)             (None, 32)                352       \n",
      "                                                                 \n",
      " dense_4 (Dense)             (None, 16)                528       \n",
      "                                                                 \n",
      " dense_5 (Dense)             (None, 7)                 119       \n",
      "                                                                 \n",
      "=================================================================\n",
      "Total params: 124017 (484.44 KB)\n",
      "Trainable params: 124017 (484.44 KB)\n",
      "Non-trainable params: 0 (0.00 Byte)\n",
      "_________________________________________________________________\n"
     ]
    }
   ],
   "source": [
    "model5 = tf.keras.Sequential([\n",
    "    tf.keras.layers.Input((5,11)),\n",
    "    tf.keras.layers.LSTM(128 ,  return_sequences = True),\n",
    "    tf.keras.layers.LSTM(64, return_sequences = True),\n",
    "    tf.keras.layers.Conv1D(10,3,2),\n",
    "    tf.keras.layers.GlobalAveragePooling1D(),\n",
    "    tf.keras.layers.Dense(32 , 'relu'),\n",
    "    tf.keras.layers.Dense(16 , 'relu'),\n",
    "    tf.keras.layers.Dense(7 , 'linear')\n",
    "])\n",
    "\n",
    "model5.summary()"
   ]
  },
  {
   "cell_type": "code",
   "execution_count": 34,
   "id": "7b5fc325",
   "metadata": {},
   "outputs": [],
   "source": [
    "model5.compile(loss = 'mse',\n",
    "              optimizer = 'adam',\n",
    "              metrics = ['mse'])"
   ]
  },
  {
   "cell_type": "code",
   "execution_count": 35,
   "id": "1b9e5c9f",
   "metadata": {},
   "outputs": [
    {
     "name": "stdout",
     "output_type": "stream",
     "text": [
      "Epoch 1/10\n",
      "1188/1188 [==============================] - 14s 8ms/step - loss: 0.2556 - mse: 0.2556 - val_loss: 0.1960 - val_mse: 0.1960\n",
      "Epoch 2/10\n",
      "1188/1188 [==============================] - 9s 8ms/step - loss: 0.1834 - mse: 0.1834 - val_loss: 0.1825 - val_mse: 0.1825\n",
      "Epoch 3/10\n",
      "1188/1188 [==============================] - 9s 8ms/step - loss: 0.1744 - mse: 0.1744 - val_loss: 0.1802 - val_mse: 0.1802\n",
      "Epoch 4/10\n",
      "1188/1188 [==============================] - 9s 8ms/step - loss: 0.1701 - mse: 0.1701 - val_loss: 0.1744 - val_mse: 0.1744\n",
      "Epoch 5/10\n",
      "1188/1188 [==============================] - 9s 8ms/step - loss: 0.1674 - mse: 0.1674 - val_loss: 0.1748 - val_mse: 0.1748\n",
      "Epoch 6/10\n",
      "1188/1188 [==============================] - 10s 8ms/step - loss: 0.1654 - mse: 0.1654 - val_loss: 0.1722 - val_mse: 0.1722\n",
      "Epoch 7/10\n",
      "1188/1188 [==============================] - 10s 8ms/step - loss: 0.1636 - mse: 0.1636 - val_loss: 0.1728 - val_mse: 0.1728\n",
      "Epoch 8/10\n",
      "1188/1188 [==============================] - 10s 9ms/step - loss: 0.1619 - mse: 0.1619 - val_loss: 0.1719 - val_mse: 0.1719\n",
      "Epoch 9/10\n",
      "1188/1188 [==============================] - 10s 9ms/step - loss: 0.1604 - mse: 0.1604 - val_loss: 0.1732 - val_mse: 0.1732\n",
      "Epoch 10/10\n",
      "1188/1188 [==============================] - 11s 9ms/step - loss: 0.1591 - mse: 0.1591 - val_loss: 0.1716 - val_mse: 0.1716\n"
     ]
    },
    {
     "data": {
      "text/plain": [
       "<keras.src.callbacks.History at 0x1f9615f9c90>"
      ]
     },
     "execution_count": 35,
     "metadata": {},
     "output_type": "execute_result"
    }
   ],
   "source": [
    "model5.fit(X4_train , y4_train , epochs = 10 , validation_data = (X4_val  , y4_val))"
   ]
  },
  {
   "cell_type": "code",
   "execution_count": 38,
   "id": "116706b3",
   "metadata": {},
   "outputs": [],
   "source": [
    "def plot_predictions2(model, X, y, start=0, end=100):\n",
    "  predictions = model.predict(X)\n",
    "  p_preds, temp_preds = predictions[:, 0], predictions[:, 1]\n",
    "  p_actuals, temp_actuals = y[:, 0], y[:, 1]\n",
    "  df = pd.DataFrame(data={'Temperature Predictions': temp_preds,\n",
    "                          'Temperature Actuals':temp_actuals,\n",
    "                          'Pressure Predictions': p_preds,\n",
    "                          'Pressure Actuals': p_actuals\n",
    "                          })\n",
    "  plt.plot(df['Temperature Predictions'][start:end])\n",
    "  plt.plot(df['Temperature Actuals'][start:end])\n",
    "#   plt.plot(df['Pressure Predictions'][start:end])\n",
    "#   plt.plot(df['Pressure Actuals'][start:end])\n",
    "  plt.legend()  \n",
    "  return df[start:end]"
   ]
  },
  {
   "cell_type": "code",
   "execution_count": 39,
   "id": "9bc01ce9",
   "metadata": {},
   "outputs": [
    {
     "name": "stdout",
     "output_type": "stream",
     "text": [
      "99/99 [==============================] - 0s 3ms/step\n"
     ]
    },
    {
     "name": "stderr",
     "output_type": "stream",
     "text": [
      "No artists with labels found to put in legend.  Note that artists whose label start with an underscore are ignored when legend() is called with no argument.\n"
     ]
    },
    {
     "data": {
      "text/html": [
       "<div>\n",
       "<style scoped>\n",
       "    .dataframe tbody tr th:only-of-type {\n",
       "        vertical-align: middle;\n",
       "    }\n",
       "\n",
       "    .dataframe tbody tr th {\n",
       "        vertical-align: top;\n",
       "    }\n",
       "\n",
       "    .dataframe thead th {\n",
       "        text-align: right;\n",
       "    }\n",
       "</style>\n",
       "<table border=\"1\" class=\"dataframe\">\n",
       "  <thead>\n",
       "    <tr style=\"text-align: right;\">\n",
       "      <th></th>\n",
       "      <th>Temperature Predictions</th>\n",
       "      <th>Temperature Actuals</th>\n",
       "      <th>Pressure Predictions</th>\n",
       "      <th>Pressure Actuals</th>\n",
       "    </tr>\n",
       "  </thead>\n",
       "  <tbody>\n",
       "    <tr>\n",
       "      <th>0</th>\n",
       "      <td>-0.191197</td>\n",
       "      <td>-0.352710</td>\n",
       "      <td>0.245148</td>\n",
       "      <td>0.297957</td>\n",
       "    </tr>\n",
       "    <tr>\n",
       "      <th>1</th>\n",
       "      <td>-0.278197</td>\n",
       "      <td>-0.496512</td>\n",
       "      <td>0.032643</td>\n",
       "      <td>0.297957</td>\n",
       "    </tr>\n",
       "    <tr>\n",
       "      <th>2</th>\n",
       "      <td>0.241293</td>\n",
       "      <td>0.206518</td>\n",
       "      <td>0.099941</td>\n",
       "      <td>0.182631</td>\n",
       "    </tr>\n",
       "    <tr>\n",
       "      <th>3</th>\n",
       "      <td>-0.356558</td>\n",
       "      <td>-0.352710</td>\n",
       "      <td>0.160715</td>\n",
       "      <td>0.153800</td>\n",
       "    </tr>\n",
       "    <tr>\n",
       "      <th>4</th>\n",
       "      <td>-0.263354</td>\n",
       "      <td>-0.208909</td>\n",
       "      <td>0.142236</td>\n",
       "      <td>0.153800</td>\n",
       "    </tr>\n",
       "    <tr>\n",
       "      <th>...</th>\n",
       "      <td>...</td>\n",
       "      <td>...</td>\n",
       "      <td>...</td>\n",
       "      <td>...</td>\n",
       "    </tr>\n",
       "    <tr>\n",
       "      <th>95</th>\n",
       "      <td>0.088344</td>\n",
       "      <td>0.222496</td>\n",
       "      <td>-0.245920</td>\n",
       "      <td>-0.365165</td>\n",
       "    </tr>\n",
       "    <tr>\n",
       "      <th>96</th>\n",
       "      <td>-0.338411</td>\n",
       "      <td>-0.065107</td>\n",
       "      <td>-0.125981</td>\n",
       "      <td>-0.134514</td>\n",
       "    </tr>\n",
       "    <tr>\n",
       "      <th>97</th>\n",
       "      <td>0.023539</td>\n",
       "      <td>-0.065107</td>\n",
       "      <td>-0.180660</td>\n",
       "      <td>-0.134514</td>\n",
       "    </tr>\n",
       "    <tr>\n",
       "      <th>98</th>\n",
       "      <td>0.262158</td>\n",
       "      <td>0.246462</td>\n",
       "      <td>-0.224158</td>\n",
       "      <td>-0.321918</td>\n",
       "    </tr>\n",
       "    <tr>\n",
       "      <th>99</th>\n",
       "      <td>0.154963</td>\n",
       "      <td>-0.208909</td>\n",
       "      <td>-0.299418</td>\n",
       "      <td>-0.278671</td>\n",
       "    </tr>\n",
       "  </tbody>\n",
       "</table>\n",
       "<p>100 rows × 4 columns</p>\n",
       "</div>"
      ],
      "text/plain": [
       "    Temperature Predictions  Temperature Actuals  Pressure Predictions  \\\n",
       "0                 -0.191197            -0.352710              0.245148   \n",
       "1                 -0.278197            -0.496512              0.032643   \n",
       "2                  0.241293             0.206518              0.099941   \n",
       "3                 -0.356558            -0.352710              0.160715   \n",
       "4                 -0.263354            -0.208909              0.142236   \n",
       "..                      ...                  ...                   ...   \n",
       "95                 0.088344             0.222496             -0.245920   \n",
       "96                -0.338411            -0.065107             -0.125981   \n",
       "97                 0.023539            -0.065107             -0.180660   \n",
       "98                 0.262158             0.246462             -0.224158   \n",
       "99                 0.154963            -0.208909             -0.299418   \n",
       "\n",
       "    Pressure Actuals  \n",
       "0           0.297957  \n",
       "1           0.297957  \n",
       "2           0.182631  \n",
       "3           0.153800  \n",
       "4           0.153800  \n",
       "..               ...  \n",
       "95         -0.365165  \n",
       "96         -0.134514  \n",
       "97         -0.134514  \n",
       "98         -0.321918  \n",
       "99         -0.278671  \n",
       "\n",
       "[100 rows x 4 columns]"
      ]
     },
     "execution_count": 39,
     "metadata": {},
     "output_type": "execute_result"
    },
    {
     "data": {
      "image/png": "[encoded data removed]",
      "text/plain": [
       "<Figure size 640x480 with 1 Axes>"
      ]
     },
     "metadata": {},
     "output_type": "display_data"
    }
   ],
   "source": [
    "plot_predictions2(model5,X4_test , y4_test)"
   ]
  },
  {
   "cell_type": "code",
   "execution_count": 60,
   "id": "bc4aa11e",
   "metadata": {},
   "outputs": [
    {
     "name": "stdout",
     "output_type": "stream",
     "text": [
      "76/76 [==============================] - 1s 10ms/step - loss: 0.1909 - mse: 0.1909\n"
     ]
    },
    {
     "data": {
      "text/plain": [
       "[0.19092623889446259, 0.19092623889446259]"
      ]
     },
     "execution_count": 60,
     "metadata": {},
     "output_type": "execute_result"
    }
   ],
   "source": [
    "model5.evaluate(X4_test , y4_test)"
   ]
  },
  {
   "cell_type": "code",
   "execution_count": 65,
   "id": "6cc7af3f",
   "metadata": {},
   "outputs": [
    {
     "name": "stdout",
     "output_type": "stream",
     "text": [
      "Model: \"sequential_3\"\n",
      "_________________________________________________________________\n",
      " Layer (type)                Output Shape              Param #   \n",
      "=================================================================\n",
      " conv1d_3 (Conv1D)           (None, 4, 128)            2944      \n",
      "                                                                 \n",
      " conv1d_4 (Conv1D)           (None, 3, 64)             16448     \n",
      "                                                                 \n",
      " conv1d_5 (Conv1D)           (None, 2, 32)             4128      \n",
      "                                                                 \n",
      " global_average_pooling1d_3  (None, 32)                0         \n",
      "  (GlobalAveragePooling1D)                                       \n",
      "                                                                 \n",
      " dense_8 (Dense)             (None, 16)                528       \n",
      "                                                                 \n",
      " dense_9 (Dense)             (None, 7)                 119       \n",
      "                                                                 \n",
      "=================================================================\n",
      "Total params: 24167 (94.40 KB)\n",
      "Trainable params: 24167 (94.40 KB)\n",
      "Non-trainable params: 0 (0.00 Byte)\n",
      "_________________________________________________________________\n"
     ]
    }
   ],
   "source": [
    "model6 = tf.keras.Sequential([\n",
    "    tf.keras.layers.Input((5,11)),\n",
    "    tf.keras.layers.Conv1D(128,2,1),\n",
    "    tf.keras.layers.Conv1D(64,2,1),\n",
    "    tf.keras.layers.Conv1D(32,2,1),\n",
    "    tf.keras.layers.GlobalAveragePooling1D(),\n",
    "    tf.keras.layers.Dense(16 , 'relu'),\n",
    "    tf.keras.layers.Dense(7 , 'linear')\n",
    "])\n",
    "\n",
    "model6.summary()"
   ]
  },
  {
   "cell_type": "code",
   "execution_count": 66,
   "id": "029a56e8",
   "metadata": {},
   "outputs": [],
   "source": [
    "model6.compile(loss = 'mse',\n",
    "                optimizer = 'adam',\n",
    "               metrics = ['mae'])"
   ]
  },
  {
   "cell_type": "code",
   "execution_count": 67,
   "id": "a9f72427",
   "metadata": {},
   "outputs": [
    {
     "name": "stdout",
     "output_type": "stream",
     "text": [
      "Epoch 1/10\n",
      "1188/1188 [==============================] - 7s 5ms/step - loss: 0.2157 - mae: 0.3241 - val_loss: 0.2087 - val_mae: 0.3095\n",
      "Epoch 2/10\n",
      "1188/1188 [==============================] - 3s 3ms/step - loss: 0.1928 - mae: 0.2992 - val_loss: 0.2023 - val_mae: 0.2993\n",
      "Epoch 3/10\n",
      "1188/1188 [==============================] - 6s 5ms/step - loss: 0.1899 - mae: 0.2960 - val_loss: 0.2023 - val_mae: 0.2965\n",
      "Epoch 4/10\n",
      "1188/1188 [==============================] - 6s 5ms/step - loss: 0.1884 - mae: 0.2938 - val_loss: 0.1954 - val_mae: 0.2931\n",
      "Epoch 5/10\n",
      "1188/1188 [==============================] - 3s 3ms/step - loss: 0.1874 - mae: 0.2923 - val_loss: 0.1967 - val_mae: 0.2957\n",
      "Epoch 6/10\n",
      "1188/1188 [==============================] - 3s 3ms/step - loss: 0.1863 - mae: 0.2907 - val_loss: 0.1963 - val_mae: 0.2924\n",
      "Epoch 7/10\n",
      "1188/1188 [==============================] - 3s 3ms/step - loss: 0.1854 - mae: 0.2893 - val_loss: 0.1930 - val_mae: 0.2900\n",
      "Epoch 8/10\n",
      "1188/1188 [==============================] - 4s 3ms/step - loss: 0.1844 - mae: 0.2880 - val_loss: 0.1902 - val_mae: 0.2881\n",
      "Epoch 9/10\n",
      "1188/1188 [==============================] - 5s 4ms/step - loss: 0.1837 - mae: 0.2869 - val_loss: 0.1933 - val_mae: 0.2939\n",
      "Epoch 10/10\n",
      "1188/1188 [==============================] - 4s 3ms/step - loss: 0.1826 - mae: 0.2852 - val_loss: 0.1926 - val_mae: 0.2882\n"
     ]
    },
    {
     "data": {
      "text/plain": [
       "<keras.src.callbacks.History at 0x1f969d26e30>"
      ]
     },
     "execution_count": 67,
     "metadata": {},
     "output_type": "execute_result"
    }
   ],
   "source": [
    "model6.fit(X4_train , y4_train , epochs = 10, validation_data = (X4_val , y4_val))"
   ]
  },
  {
   "cell_type": "code",
   "execution_count": 68,
   "id": "6adf2988",
   "metadata": {},
   "outputs": [
    {
     "name": "stdout",
     "output_type": "stream",
     "text": [
      "99/99 [==============================] - 0s 2ms/step\n"
     ]
    },
    {
     "name": "stderr",
     "output_type": "stream",
     "text": [
      "No artists with labels found to put in legend.  Note that artists whose label start with an underscore are ignored when legend() is called with no argument.\n"
     ]
    },
    {
     "data": {
      "text/html": [
       "<div>\n",
       "<style scoped>\n",
       "    .dataframe tbody tr th:only-of-type {\n",
       "        vertical-align: middle;\n",
       "    }\n",
       "\n",
       "    .dataframe tbody tr th {\n",
       "        vertical-align: top;\n",
       "    }\n",
       "\n",
       "    .dataframe thead th {\n",
       "        text-align: right;\n",
       "    }\n",
       "</style>\n",
       "<table border=\"1\" class=\"dataframe\">\n",
       "  <thead>\n",
       "    <tr style=\"text-align: right;\">\n",
       "      <th></th>\n",
       "      <th>Temperature Predictions</th>\n",
       "      <th>Temperature Actuals</th>\n",
       "      <th>Pressure Predictions</th>\n",
       "      <th>Pressure Actuals</th>\n",
       "    </tr>\n",
       "  </thead>\n",
       "  <tbody>\n",
       "    <tr>\n",
       "      <th>0</th>\n",
       "      <td>-0.404510</td>\n",
       "      <td>-0.352710</td>\n",
       "      <td>0.548377</td>\n",
       "      <td>0.297957</td>\n",
       "    </tr>\n",
       "    <tr>\n",
       "      <th>1</th>\n",
       "      <td>-0.236384</td>\n",
       "      <td>-0.496512</td>\n",
       "      <td>0.567108</td>\n",
       "      <td>0.297957</td>\n",
       "    </tr>\n",
       "    <tr>\n",
       "      <th>2</th>\n",
       "      <td>-0.071026</td>\n",
       "      <td>0.206518</td>\n",
       "      <td>0.258690</td>\n",
       "      <td>0.182631</td>\n",
       "    </tr>\n",
       "    <tr>\n",
       "      <th>3</th>\n",
       "      <td>-0.303211</td>\n",
       "      <td>-0.352710</td>\n",
       "      <td>0.355833</td>\n",
       "      <td>0.153800</td>\n",
       "    </tr>\n",
       "    <tr>\n",
       "      <th>4</th>\n",
       "      <td>-0.241109</td>\n",
       "      <td>-0.208909</td>\n",
       "      <td>0.277658</td>\n",
       "      <td>0.153800</td>\n",
       "    </tr>\n",
       "    <tr>\n",
       "      <th>...</th>\n",
       "      <td>...</td>\n",
       "      <td>...</td>\n",
       "      <td>...</td>\n",
       "      <td>...</td>\n",
       "    </tr>\n",
       "    <tr>\n",
       "      <th>95</th>\n",
       "      <td>-0.028973</td>\n",
       "      <td>0.222496</td>\n",
       "      <td>-0.286792</td>\n",
       "      <td>-0.365165</td>\n",
       "    </tr>\n",
       "    <tr>\n",
       "      <th>96</th>\n",
       "      <td>-0.177340</td>\n",
       "      <td>-0.065107</td>\n",
       "      <td>-0.217268</td>\n",
       "      <td>-0.134514</td>\n",
       "    </tr>\n",
       "    <tr>\n",
       "      <th>97</th>\n",
       "      <td>-0.115852</td>\n",
       "      <td>-0.065107</td>\n",
       "      <td>-0.116283</td>\n",
       "      <td>-0.134514</td>\n",
       "    </tr>\n",
       "    <tr>\n",
       "      <th>98</th>\n",
       "      <td>0.053644</td>\n",
       "      <td>0.246462</td>\n",
       "      <td>-0.207095</td>\n",
       "      <td>-0.321918</td>\n",
       "    </tr>\n",
       "    <tr>\n",
       "      <th>99</th>\n",
       "      <td>0.065334</td>\n",
       "      <td>-0.208909</td>\n",
       "      <td>-0.180408</td>\n",
       "      <td>-0.278671</td>\n",
       "    </tr>\n",
       "  </tbody>\n",
       "</table>\n",
       "<p>100 rows × 4 columns</p>\n",
       "</div>"
      ],
      "text/plain": [
       "    Temperature Predictions  Temperature Actuals  Pressure Predictions  \\\n",
       "0                 -0.404510            -0.352710              0.548377   \n",
       "1                 -0.236384            -0.496512              0.567108   \n",
       "2                 -0.071026             0.206518              0.258690   \n",
       "3                 -0.303211            -0.352710              0.355833   \n",
       "4                 -0.241109            -0.208909              0.277658   \n",
       "..                      ...                  ...                   ...   \n",
       "95                -0.028973             0.222496             -0.286792   \n",
       "96                -0.177340            -0.065107             -0.217268   \n",
       "97                -0.115852            -0.065107             -0.116283   \n",
       "98                 0.053644             0.246462             -0.207095   \n",
       "99                 0.065334            -0.208909             -0.180408   \n",
       "\n",
       "    Pressure Actuals  \n",
       "0           0.297957  \n",
       "1           0.297957  \n",
       "2           0.182631  \n",
       "3           0.153800  \n",
       "4           0.153800  \n",
       "..               ...  \n",
       "95         -0.365165  \n",
       "96         -0.134514  \n",
       "97         -0.134514  \n",
       "98         -0.321918  \n",
       "99         -0.278671  \n",
       "\n",
       "[100 rows x 4 columns]"
      ]
     },
     "execution_count": 68,
     "metadata": {},
     "output_type": "execute_result"
    },
    {
     "data": {
      "image/png": "[encoded data removed]",
      "text/plain": [
       "<Figure size 640x480 with 1 Axes>"
      ]
     },
     "metadata": {},
     "output_type": "display_data"
    }
   ],
   "source": [
    "plot_predictions2(model6,X4_test , y4_test)"
   ]
  },
  {
   "cell_type": "markdown",
   "id": "b1145122",
   "metadata": {},
   "source": [
    "## Model for the condition Prediction"
   ]
  },
  {
   "cell_type": "code",
   "execution_count": 6,
   "id": "6e7d68e9",
   "metadata": {},
   "outputs": [
    {
     "data": {
      "text/html": [
       "<div>\n",
       "<style scoped>\n",
       "    .dataframe tbody tr th:only-of-type {\n",
       "        vertical-align: middle;\n",
       "    }\n",
       "\n",
       "    .dataframe tbody tr th {\n",
       "        vertical-align: top;\n",
       "    }\n",
       "\n",
       "    .dataframe thead th {\n",
       "        text-align: right;\n",
       "    }\n",
       "</style>\n",
       "<table border=\"1\" class=\"dataframe\">\n",
       "  <thead>\n",
       "    <tr style=\"text-align: right;\">\n",
       "      <th></th>\n",
       "      <th>name</th>\n",
       "      <th>datetime</th>\n",
       "      <th>temp</th>\n",
       "      <th>feelslike</th>\n",
       "      <th>dew</th>\n",
       "      <th>humidity</th>\n",
       "      <th>precip</th>\n",
       "      <th>precipprob</th>\n",
       "      <th>preciptype</th>\n",
       "      <th>snow</th>\n",
       "      <th>...</th>\n",
       "      <th>sealevelpressure</th>\n",
       "      <th>cloudcover</th>\n",
       "      <th>visibility</th>\n",
       "      <th>solarradiation</th>\n",
       "      <th>solarenergy</th>\n",
       "      <th>uvindex</th>\n",
       "      <th>severerisk</th>\n",
       "      <th>conditions</th>\n",
       "      <th>icon</th>\n",
       "      <th>stations</th>\n",
       "    </tr>\n",
       "    <tr>\n",
       "      <th>datetime</th>\n",
       "      <th></th>\n",
       "      <th></th>\n",
       "      <th></th>\n",
       "      <th></th>\n",
       "      <th></th>\n",
       "      <th></th>\n",
       "      <th></th>\n",
       "      <th></th>\n",
       "      <th></th>\n",
       "      <th></th>\n",
       "      <th></th>\n",
       "      <th></th>\n",
       "      <th></th>\n",
       "      <th></th>\n",
       "      <th></th>\n",
       "      <th></th>\n",
       "      <th></th>\n",
       "      <th></th>\n",
       "      <th></th>\n",
       "      <th></th>\n",
       "      <th></th>\n",
       "    </tr>\n",
       "  </thead>\n",
       "  <tbody>\n",
       "    <tr>\n",
       "      <th>2022-08-08 00:00:00</th>\n",
       "      <td>delhi</td>\n",
       "      <td>2022-08-08T00:00:00</td>\n",
       "      <td>80.6</td>\n",
       "      <td>88.1</td>\n",
       "      <td>78.8</td>\n",
       "      <td>94.27</td>\n",
       "      <td>0.0</td>\n",
       "      <td>0</td>\n",
       "      <td>NaN</td>\n",
       "      <td>0.0</td>\n",
       "      <td>...</td>\n",
       "      <td>1001.0</td>\n",
       "      <td>88.9</td>\n",
       "      <td>1.9</td>\n",
       "      <td>0.0</td>\n",
       "      <td>0.0</td>\n",
       "      <td>0.0</td>\n",
       "      <td>3.0</td>\n",
       "      <td>Partially cloudy</td>\n",
       "      <td>partly-cloudy-night</td>\n",
       "      <td>VIDP,42181099999</td>\n",
       "    </tr>\n",
       "    <tr>\n",
       "      <th>2022-08-08 01:00:00</th>\n",
       "      <td>delhi</td>\n",
       "      <td>2022-08-08T01:00:00</td>\n",
       "      <td>78.8</td>\n",
       "      <td>78.8</td>\n",
       "      <td>78.8</td>\n",
       "      <td>100.00</td>\n",
       "      <td>0.0</td>\n",
       "      <td>0</td>\n",
       "      <td>NaN</td>\n",
       "      <td>0.0</td>\n",
       "      <td>...</td>\n",
       "      <td>1001.0</td>\n",
       "      <td>88.9</td>\n",
       "      <td>1.9</td>\n",
       "      <td>0.0</td>\n",
       "      <td>0.0</td>\n",
       "      <td>0.0</td>\n",
       "      <td>10.0</td>\n",
       "      <td>Partially cloudy</td>\n",
       "      <td>partly-cloudy-night</td>\n",
       "      <td>VIDP,42181099999</td>\n",
       "    </tr>\n",
       "    <tr>\n",
       "      <th>2022-08-08 02:00:00</th>\n",
       "      <td>delhi</td>\n",
       "      <td>2022-08-08T02:00:00</td>\n",
       "      <td>79.7</td>\n",
       "      <td>79.7</td>\n",
       "      <td>78.2</td>\n",
       "      <td>95.11</td>\n",
       "      <td>0.0</td>\n",
       "      <td>0</td>\n",
       "      <td>NaN</td>\n",
       "      <td>0.0</td>\n",
       "      <td>...</td>\n",
       "      <td>999.0</td>\n",
       "      <td>67.0</td>\n",
       "      <td>1.3</td>\n",
       "      <td>0.0</td>\n",
       "      <td>0.0</td>\n",
       "      <td>0.0</td>\n",
       "      <td>10.0</td>\n",
       "      <td>Partially cloudy</td>\n",
       "      <td>partly-cloudy-night</td>\n",
       "      <td>42182099999,VIDP,42181099999</td>\n",
       "    </tr>\n",
       "    <tr>\n",
       "      <th>2022-08-08 03:00:00</th>\n",
       "      <td>delhi</td>\n",
       "      <td>2022-08-08T03:00:00</td>\n",
       "      <td>78.8</td>\n",
       "      <td>78.8</td>\n",
       "      <td>78.8</td>\n",
       "      <td>100.00</td>\n",
       "      <td>0.0</td>\n",
       "      <td>0</td>\n",
       "      <td>NaN</td>\n",
       "      <td>0.0</td>\n",
       "      <td>...</td>\n",
       "      <td>1000.0</td>\n",
       "      <td>88.9</td>\n",
       "      <td>1.9</td>\n",
       "      <td>0.0</td>\n",
       "      <td>0.0</td>\n",
       "      <td>0.0</td>\n",
       "      <td>10.0</td>\n",
       "      <td>Partially cloudy</td>\n",
       "      <td>partly-cloudy-night</td>\n",
       "      <td>VIDP,42181099999</td>\n",
       "    </tr>\n",
       "    <tr>\n",
       "      <th>2022-08-08 04:00:00</th>\n",
       "      <td>delhi</td>\n",
       "      <td>2022-08-08T04:00:00</td>\n",
       "      <td>78.8</td>\n",
       "      <td>78.8</td>\n",
       "      <td>78.8</td>\n",
       "      <td>100.00</td>\n",
       "      <td>0.0</td>\n",
       "      <td>0</td>\n",
       "      <td>NaN</td>\n",
       "      <td>0.0</td>\n",
       "      <td>...</td>\n",
       "      <td>1000.0</td>\n",
       "      <td>88.9</td>\n",
       "      <td>1.9</td>\n",
       "      <td>0.0</td>\n",
       "      <td>0.0</td>\n",
       "      <td>0.0</td>\n",
       "      <td>10.0</td>\n",
       "      <td>Partially cloudy</td>\n",
       "      <td>partly-cloudy-night</td>\n",
       "      <td>VIDP,42181099999</td>\n",
       "    </tr>\n",
       "  </tbody>\n",
       "</table>\n",
       "<p>5 rows × 24 columns</p>\n",
       "</div>"
      ],
      "text/plain": [
       "                      name             datetime  temp  feelslike   dew  \\\n",
       "datetime                                                                 \n",
       "2022-08-08 00:00:00  delhi  2022-08-08T00:00:00  80.6       88.1  78.8   \n",
       "2022-08-08 01:00:00  delhi  2022-08-08T01:00:00  78.8       78.8  78.8   \n",
       "2022-08-08 02:00:00  delhi  2022-08-08T02:00:00  79.7       79.7  78.2   \n",
       "2022-08-08 03:00:00  delhi  2022-08-08T03:00:00  78.8       78.8  78.8   \n",
       "2022-08-08 04:00:00  delhi  2022-08-08T04:00:00  78.8       78.8  78.8   \n",
       "\n",
       "                     humidity  precip  precipprob preciptype  snow  ...  \\\n",
       "datetime                                                            ...   \n",
       "2022-08-08 00:00:00     94.27     0.0           0        NaN   0.0  ...   \n",
       "2022-08-08 01:00:00    100.00     0.0           0        NaN   0.0  ...   \n",
       "2022-08-08 02:00:00     95.11     0.0           0        NaN   0.0  ...   \n",
       "2022-08-08 03:00:00    100.00     0.0           0        NaN   0.0  ...   \n",
       "2022-08-08 04:00:00    100.00     0.0           0        NaN   0.0  ...   \n",
       "\n",
       "                     sealevelpressure  cloudcover  visibility  solarradiation  \\\n",
       "datetime                                                                        \n",
       "2022-08-08 00:00:00            1001.0        88.9         1.9             0.0   \n",
       "2022-08-08 01:00:00            1001.0        88.9         1.9             0.0   \n",
       "2022-08-08 02:00:00             999.0        67.0         1.3             0.0   \n",
       "2022-08-08 03:00:00            1000.0        88.9         1.9             0.0   \n",
       "2022-08-08 04:00:00            1000.0        88.9         1.9             0.0   \n",
       "\n",
       "                     solarenergy  uvindex  severerisk        conditions  \\\n",
       "datetime                                                                  \n",
       "2022-08-08 00:00:00          0.0      0.0         3.0  Partially cloudy   \n",
       "2022-08-08 01:00:00          0.0      0.0        10.0  Partially cloudy   \n",
       "2022-08-08 02:00:00          0.0      0.0        10.0  Partially cloudy   \n",
       "2022-08-08 03:00:00          0.0      0.0        10.0  Partially cloudy   \n",
       "2022-08-08 04:00:00          0.0      0.0        10.0  Partially cloudy   \n",
       "\n",
       "                                    icon                      stations  \n",
       "datetime                                                                \n",
       "2022-08-08 00:00:00  partly-cloudy-night              VIDP,42181099999  \n",
       "2022-08-08 01:00:00  partly-cloudy-night              VIDP,42181099999  \n",
       "2022-08-08 02:00:00  partly-cloudy-night  42182099999,VIDP,42181099999  \n",
       "2022-08-08 03:00:00  partly-cloudy-night              VIDP,42181099999  \n",
       "2022-08-08 04:00:00  partly-cloudy-night              VIDP,42181099999  \n",
       "\n",
       "[5 rows x 24 columns]"
      ]
     },
     "execution_count": 6,
     "metadata": {},
     "output_type": "execute_result"
    }
   ],
   "source": [
    "data.head()"
   ]
  },
  {
   "cell_type": "code",
   "execution_count": 7,
   "id": "7a926cb7",
   "metadata": {},
   "outputs": [
    {
     "data": {
      "text/plain": [
       "name                    0\n",
       "datetime                0\n",
       "temp                    0\n",
       "feelslike               0\n",
       "dew                     0\n",
       "humidity                0\n",
       "precip                  0\n",
       "precipprob              0\n",
       "preciptype          25460\n",
       "snow                12720\n",
       "snowdepth           12642\n",
       "windgust            12289\n",
       "windspeed               0\n",
       "winddir                 0\n",
       "sealevelpressure      313\n",
       "cloudcover              0\n",
       "visibility            182\n",
       "solarradiation         77\n",
       "solarenergy            77\n",
       "uvindex                77\n",
       "severerisk          12642\n",
       "conditions              0\n",
       "icon                    0\n",
       "stations                0\n",
       "dtype: int64"
      ]
     },
     "execution_count": 7,
     "metadata": {},
     "output_type": "execute_result"
    }
   ],
   "source": [
    "data.isna().sum()"
   ]
  },
  {
   "cell_type": "code",
   "execution_count": 8,
   "id": "99ab4b4a",
   "metadata": {},
   "outputs": [
    {
     "data": {
      "text/html": [
       "<div>\n",
       "<style scoped>\n",
       "    .dataframe tbody tr th:only-of-type {\n",
       "        vertical-align: middle;\n",
       "    }\n",
       "\n",
       "    .dataframe tbody tr th {\n",
       "        vertical-align: top;\n",
       "    }\n",
       "\n",
       "    .dataframe thead th {\n",
       "        text-align: right;\n",
       "    }\n",
       "</style>\n",
       "<table border=\"1\" class=\"dataframe\">\n",
       "  <thead>\n",
       "    <tr style=\"text-align: right;\">\n",
       "      <th></th>\n",
       "      <th>temp</th>\n",
       "      <th>dew</th>\n",
       "      <th>humidity</th>\n",
       "      <th>windspeed</th>\n",
       "      <th>winddir</th>\n",
       "      <th>sealevelpressure</th>\n",
       "      <th>cloudcover</th>\n",
       "      <th>visibility</th>\n",
       "      <th>uvindex</th>\n",
       "      <th>conditions</th>\n",
       "      <th>seconds</th>\n",
       "    </tr>\n",
       "    <tr>\n",
       "      <th>datetime</th>\n",
       "      <th></th>\n",
       "      <th></th>\n",
       "      <th></th>\n",
       "      <th></th>\n",
       "      <th></th>\n",
       "      <th></th>\n",
       "      <th></th>\n",
       "      <th></th>\n",
       "      <th></th>\n",
       "      <th></th>\n",
       "      <th></th>\n",
       "    </tr>\n",
       "  </thead>\n",
       "  <tbody>\n",
       "    <tr>\n",
       "      <th>2022-08-08 00:00:00</th>\n",
       "      <td>80.6</td>\n",
       "      <td>78.8</td>\n",
       "      <td>94.27</td>\n",
       "      <td>4.7</td>\n",
       "      <td>120.0</td>\n",
       "      <td>1001.0</td>\n",
       "      <td>88.9</td>\n",
       "      <td>1.9</td>\n",
       "      <td>0.0</td>\n",
       "      <td>Partially cloudy</td>\n",
       "      <td>1.659917e+09</td>\n",
       "    </tr>\n",
       "    <tr>\n",
       "      <th>2022-08-08 01:00:00</th>\n",
       "      <td>78.8</td>\n",
       "      <td>78.8</td>\n",
       "      <td>100.00</td>\n",
       "      <td>3.4</td>\n",
       "      <td>100.0</td>\n",
       "      <td>1001.0</td>\n",
       "      <td>88.9</td>\n",
       "      <td>1.9</td>\n",
       "      <td>0.0</td>\n",
       "      <td>Partially cloudy</td>\n",
       "      <td>1.659920e+09</td>\n",
       "    </tr>\n",
       "    <tr>\n",
       "      <th>2022-08-08 02:00:00</th>\n",
       "      <td>79.7</td>\n",
       "      <td>78.2</td>\n",
       "      <td>95.11</td>\n",
       "      <td>0.0</td>\n",
       "      <td>100.2</td>\n",
       "      <td>999.0</td>\n",
       "      <td>67.0</td>\n",
       "      <td>1.3</td>\n",
       "      <td>0.0</td>\n",
       "      <td>Partially cloudy</td>\n",
       "      <td>1.659924e+09</td>\n",
       "    </tr>\n",
       "    <tr>\n",
       "      <th>2022-08-08 03:00:00</th>\n",
       "      <td>78.8</td>\n",
       "      <td>78.8</td>\n",
       "      <td>100.00</td>\n",
       "      <td>0.0</td>\n",
       "      <td>0.0</td>\n",
       "      <td>1000.0</td>\n",
       "      <td>88.9</td>\n",
       "      <td>1.9</td>\n",
       "      <td>0.0</td>\n",
       "      <td>Partially cloudy</td>\n",
       "      <td>1.659928e+09</td>\n",
       "    </tr>\n",
       "    <tr>\n",
       "      <th>2022-08-08 04:00:00</th>\n",
       "      <td>78.8</td>\n",
       "      <td>78.8</td>\n",
       "      <td>100.00</td>\n",
       "      <td>0.0</td>\n",
       "      <td>0.0</td>\n",
       "      <td>1000.0</td>\n",
       "      <td>88.9</td>\n",
       "      <td>1.9</td>\n",
       "      <td>0.0</td>\n",
       "      <td>Partially cloudy</td>\n",
       "      <td>1.659931e+09</td>\n",
       "    </tr>\n",
       "    <tr>\n",
       "      <th>...</th>\n",
       "      <td>...</td>\n",
       "      <td>...</td>\n",
       "      <td>...</td>\n",
       "      <td>...</td>\n",
       "      <td>...</td>\n",
       "      <td>...</td>\n",
       "      <td>...</td>\n",
       "      <td>...</td>\n",
       "      <td>...</td>\n",
       "      <td>...</td>\n",
       "      <td>...</td>\n",
       "    </tr>\n",
       "    <tr>\n",
       "      <th>2022-08-07 19:00:00</th>\n",
       "      <td>80.6</td>\n",
       "      <td>78.8</td>\n",
       "      <td>94.27</td>\n",
       "      <td>4.7</td>\n",
       "      <td>50.0</td>\n",
       "      <td>1000.0</td>\n",
       "      <td>88.9</td>\n",
       "      <td>2.5</td>\n",
       "      <td>0.0</td>\n",
       "      <td>Partially cloudy</td>\n",
       "      <td>1.659899e+09</td>\n",
       "    </tr>\n",
       "    <tr>\n",
       "      <th>2022-08-07 20:00:00</th>\n",
       "      <td>81.5</td>\n",
       "      <td>78.1</td>\n",
       "      <td>89.60</td>\n",
       "      <td>0.0</td>\n",
       "      <td>0.0</td>\n",
       "      <td>998.9</td>\n",
       "      <td>67.0</td>\n",
       "      <td>1.3</td>\n",
       "      <td>0.0</td>\n",
       "      <td>Partially cloudy</td>\n",
       "      <td>1.659902e+09</td>\n",
       "    </tr>\n",
       "    <tr>\n",
       "      <th>2022-08-07 21:00:00</th>\n",
       "      <td>80.6</td>\n",
       "      <td>78.8</td>\n",
       "      <td>94.27</td>\n",
       "      <td>3.4</td>\n",
       "      <td>120.0</td>\n",
       "      <td>1001.0</td>\n",
       "      <td>88.9</td>\n",
       "      <td>1.9</td>\n",
       "      <td>0.0</td>\n",
       "      <td>Partially cloudy</td>\n",
       "      <td>1.659906e+09</td>\n",
       "    </tr>\n",
       "    <tr>\n",
       "      <th>2022-08-07 22:00:00</th>\n",
       "      <td>80.6</td>\n",
       "      <td>78.8</td>\n",
       "      <td>94.27</td>\n",
       "      <td>4.7</td>\n",
       "      <td>170.0</td>\n",
       "      <td>1001.0</td>\n",
       "      <td>88.9</td>\n",
       "      <td>1.9</td>\n",
       "      <td>0.0</td>\n",
       "      <td>Partially cloudy</td>\n",
       "      <td>1.659910e+09</td>\n",
       "    </tr>\n",
       "    <tr>\n",
       "      <th>2022-08-07 23:00:00</th>\n",
       "      <td>80.6</td>\n",
       "      <td>78.6</td>\n",
       "      <td>93.69</td>\n",
       "      <td>2.4</td>\n",
       "      <td>140.0</td>\n",
       "      <td>999.0</td>\n",
       "      <td>67.0</td>\n",
       "      <td>1.3</td>\n",
       "      <td>0.0</td>\n",
       "      <td>Partially cloudy</td>\n",
       "      <td>1.659913e+09</td>\n",
       "    </tr>\n",
       "  </tbody>\n",
       "</table>\n",
       "<p>26424 rows × 11 columns</p>\n",
       "</div>"
      ],
      "text/plain": [
       "                     temp   dew  humidity  windspeed  winddir  \\\n",
       "datetime                                                        \n",
       "2022-08-08 00:00:00  80.6  78.8     94.27        4.7    120.0   \n",
       "2022-08-08 01:00:00  78.8  78.8    100.00        3.4    100.0   \n",
       "2022-08-08 02:00:00  79.7  78.2     95.11        0.0    100.2   \n",
       "2022-08-08 03:00:00  78.8  78.8    100.00        0.0      0.0   \n",
       "2022-08-08 04:00:00  78.8  78.8    100.00        0.0      0.0   \n",
       "...                   ...   ...       ...        ...      ...   \n",
       "2022-08-07 19:00:00  80.6  78.8     94.27        4.7     50.0   \n",
       "2022-08-07 20:00:00  81.5  78.1     89.60        0.0      0.0   \n",
       "2022-08-07 21:00:00  80.6  78.8     94.27        3.4    120.0   \n",
       "2022-08-07 22:00:00  80.6  78.8     94.27        4.7    170.0   \n",
       "2022-08-07 23:00:00  80.6  78.6     93.69        2.4    140.0   \n",
       "\n",
       "                     sealevelpressure  cloudcover  visibility  uvindex  \\\n",
       "datetime                                                                 \n",
       "2022-08-08 00:00:00            1001.0        88.9         1.9      0.0   \n",
       "2022-08-08 01:00:00            1001.0        88.9         1.9      0.0   \n",
       "2022-08-08 02:00:00             999.0        67.0         1.3      0.0   \n",
       "2022-08-08 03:00:00            1000.0        88.9         1.9      0.0   \n",
       "2022-08-08 04:00:00            1000.0        88.9         1.9      0.0   \n",
       "...                               ...         ...         ...      ...   \n",
       "2022-08-07 19:00:00            1000.0        88.9         2.5      0.0   \n",
       "2022-08-07 20:00:00             998.9        67.0         1.3      0.0   \n",
       "2022-08-07 21:00:00            1001.0        88.9         1.9      0.0   \n",
       "2022-08-07 22:00:00            1001.0        88.9         1.9      0.0   \n",
       "2022-08-07 23:00:00             999.0        67.0         1.3      0.0   \n",
       "\n",
       "                           conditions       seconds  \n",
       "datetime                                             \n",
       "2022-08-08 00:00:00  Partially cloudy  1.659917e+09  \n",
       "2022-08-08 01:00:00  Partially cloudy  1.659920e+09  \n",
       "2022-08-08 02:00:00  Partially cloudy  1.659924e+09  \n",
       "2022-08-08 03:00:00  Partially cloudy  1.659928e+09  \n",
       "2022-08-08 04:00:00  Partially cloudy  1.659931e+09  \n",
       "...                               ...           ...  \n",
       "2022-08-07 19:00:00  Partially cloudy  1.659899e+09  \n",
       "2022-08-07 20:00:00  Partially cloudy  1.659902e+09  \n",
       "2022-08-07 21:00:00  Partially cloudy  1.659906e+09  \n",
       "2022-08-07 22:00:00  Partially cloudy  1.659910e+09  \n",
       "2022-08-07 23:00:00  Partially cloudy  1.659913e+09  \n",
       "\n",
       "[26424 rows x 11 columns]"
      ]
     },
     "execution_count": 8,
     "metadata": {},
     "output_type": "execute_result"
    }
   ],
   "source": [
    "temp_df =pd.DataFrame(data[['temp' , 'dew' , 'humidity' , 'windspeed' , 'winddir' , 'sealevelpressure' , 'cloudcover' , 'visibility' ,'uvindex' , 'conditions']])\n",
    "temp_df['seconds'] = temp_df.index.map(pd.Timestamp.timestamp)\n",
    "temp_df\n"
   ]
  },
  {
   "cell_type": "code",
   "execution_count": 9,
   "id": "1355e162",
   "metadata": {},
   "outputs": [
    {
     "data": {
      "text/html": [
       "<div>\n",
       "<style scoped>\n",
       "    .dataframe tbody tr th:only-of-type {\n",
       "        vertical-align: middle;\n",
       "    }\n",
       "\n",
       "    .dataframe tbody tr th {\n",
       "        vertical-align: top;\n",
       "    }\n",
       "\n",
       "    .dataframe thead th {\n",
       "        text-align: right;\n",
       "    }\n",
       "</style>\n",
       "<table border=\"1\" class=\"dataframe\">\n",
       "  <thead>\n",
       "    <tr style=\"text-align: right;\">\n",
       "      <th></th>\n",
       "      <th>temp</th>\n",
       "      <th>dew</th>\n",
       "      <th>humidity</th>\n",
       "      <th>windspeed</th>\n",
       "      <th>winddir</th>\n",
       "      <th>sealevelpressure</th>\n",
       "      <th>cloudcover</th>\n",
       "      <th>visibility</th>\n",
       "      <th>uvindex</th>\n",
       "      <th>conditions</th>\n",
       "      <th>seconds</th>\n",
       "      <th>Day sin</th>\n",
       "      <th>Day cos</th>\n",
       "      <th>Year sin</th>\n",
       "      <th>Year cos</th>\n",
       "    </tr>\n",
       "    <tr>\n",
       "      <th>datetime</th>\n",
       "      <th></th>\n",
       "      <th></th>\n",
       "      <th></th>\n",
       "      <th></th>\n",
       "      <th></th>\n",
       "      <th></th>\n",
       "      <th></th>\n",
       "      <th></th>\n",
       "      <th></th>\n",
       "      <th></th>\n",
       "      <th></th>\n",
       "      <th></th>\n",
       "      <th></th>\n",
       "      <th></th>\n",
       "      <th></th>\n",
       "    </tr>\n",
       "  </thead>\n",
       "  <tbody>\n",
       "    <tr>\n",
       "      <th>2022-08-08 00:00:00</th>\n",
       "      <td>80.6</td>\n",
       "      <td>78.8</td>\n",
       "      <td>94.27</td>\n",
       "      <td>4.7</td>\n",
       "      <td>120.0</td>\n",
       "      <td>1001.0</td>\n",
       "      <td>88.9</td>\n",
       "      <td>1.9</td>\n",
       "      <td>0.0</td>\n",
       "      <td>Partially cloudy</td>\n",
       "      <td>1.659917e+09</td>\n",
       "      <td>-1.314683e-11</td>\n",
       "      <td>1.000000</td>\n",
       "      <td>-0.591183</td>\n",
       "      <td>-0.806538</td>\n",
       "    </tr>\n",
       "    <tr>\n",
       "      <th>2022-08-08 01:00:00</th>\n",
       "      <td>78.8</td>\n",
       "      <td>78.8</td>\n",
       "      <td>100.00</td>\n",
       "      <td>3.4</td>\n",
       "      <td>100.0</td>\n",
       "      <td>1001.0</td>\n",
       "      <td>88.9</td>\n",
       "      <td>1.9</td>\n",
       "      <td>0.0</td>\n",
       "      <td>Partially cloudy</td>\n",
       "      <td>1.659920e+09</td>\n",
       "      <td>2.588190e-01</td>\n",
       "      <td>0.965926</td>\n",
       "      <td>-0.591761</td>\n",
       "      <td>-0.806114</td>\n",
       "    </tr>\n",
       "    <tr>\n",
       "      <th>2022-08-08 02:00:00</th>\n",
       "      <td>79.7</td>\n",
       "      <td>78.2</td>\n",
       "      <td>95.11</td>\n",
       "      <td>0.0</td>\n",
       "      <td>100.2</td>\n",
       "      <td>999.0</td>\n",
       "      <td>67.0</td>\n",
       "      <td>1.3</td>\n",
       "      <td>0.0</td>\n",
       "      <td>Partially cloudy</td>\n",
       "      <td>1.659924e+09</td>\n",
       "      <td>5.000000e-01</td>\n",
       "      <td>0.866025</td>\n",
       "      <td>-0.592338</td>\n",
       "      <td>-0.805689</td>\n",
       "    </tr>\n",
       "    <tr>\n",
       "      <th>2022-08-08 03:00:00</th>\n",
       "      <td>78.8</td>\n",
       "      <td>78.8</td>\n",
       "      <td>100.00</td>\n",
       "      <td>0.0</td>\n",
       "      <td>0.0</td>\n",
       "      <td>1000.0</td>\n",
       "      <td>88.9</td>\n",
       "      <td>1.9</td>\n",
       "      <td>0.0</td>\n",
       "      <td>Partially cloudy</td>\n",
       "      <td>1.659928e+09</td>\n",
       "      <td>7.071068e-01</td>\n",
       "      <td>0.707107</td>\n",
       "      <td>-0.592916</td>\n",
       "      <td>-0.805264</td>\n",
       "    </tr>\n",
       "    <tr>\n",
       "      <th>2022-08-08 04:00:00</th>\n",
       "      <td>78.8</td>\n",
       "      <td>78.8</td>\n",
       "      <td>100.00</td>\n",
       "      <td>0.0</td>\n",
       "      <td>0.0</td>\n",
       "      <td>1000.0</td>\n",
       "      <td>88.9</td>\n",
       "      <td>1.9</td>\n",
       "      <td>0.0</td>\n",
       "      <td>Partially cloudy</td>\n",
       "      <td>1.659931e+09</td>\n",
       "      <td>8.660254e-01</td>\n",
       "      <td>0.500000</td>\n",
       "      <td>-0.593493</td>\n",
       "      <td>-0.804839</td>\n",
       "    </tr>\n",
       "  </tbody>\n",
       "</table>\n",
       "</div>"
      ],
      "text/plain": [
       "                     temp   dew  humidity  windspeed  winddir  \\\n",
       "datetime                                                        \n",
       "2022-08-08 00:00:00  80.6  78.8     94.27        4.7    120.0   \n",
       "2022-08-08 01:00:00  78.8  78.8    100.00        3.4    100.0   \n",
       "2022-08-08 02:00:00  79.7  78.2     95.11        0.0    100.2   \n",
       "2022-08-08 03:00:00  78.8  78.8    100.00        0.0      0.0   \n",
       "2022-08-08 04:00:00  78.8  78.8    100.00        0.0      0.0   \n",
       "\n",
       "                     sealevelpressure  cloudcover  visibility  uvindex  \\\n",
       "datetime                                                                 \n",
       "2022-08-08 00:00:00            1001.0        88.9         1.9      0.0   \n",
       "2022-08-08 01:00:00            1001.0        88.9         1.9      0.0   \n",
       "2022-08-08 02:00:00             999.0        67.0         1.3      0.0   \n",
       "2022-08-08 03:00:00            1000.0        88.9         1.9      0.0   \n",
       "2022-08-08 04:00:00            1000.0        88.9         1.9      0.0   \n",
       "\n",
       "                           conditions       seconds       Day sin   Day cos  \\\n",
       "datetime                                                                      \n",
       "2022-08-08 00:00:00  Partially cloudy  1.659917e+09 -1.314683e-11  1.000000   \n",
       "2022-08-08 01:00:00  Partially cloudy  1.659920e+09  2.588190e-01  0.965926   \n",
       "2022-08-08 02:00:00  Partially cloudy  1.659924e+09  5.000000e-01  0.866025   \n",
       "2022-08-08 03:00:00  Partially cloudy  1.659928e+09  7.071068e-01  0.707107   \n",
       "2022-08-08 04:00:00  Partially cloudy  1.659931e+09  8.660254e-01  0.500000   \n",
       "\n",
       "                     Year sin  Year cos  \n",
       "datetime                                 \n",
       "2022-08-08 00:00:00 -0.591183 -0.806538  \n",
       "2022-08-08 01:00:00 -0.591761 -0.806114  \n",
       "2022-08-08 02:00:00 -0.592338 -0.805689  \n",
       "2022-08-08 03:00:00 -0.592916 -0.805264  \n",
       "2022-08-08 04:00:00 -0.593493 -0.804839  "
      ]
     },
     "execution_count": 9,
     "metadata": {},
     "output_type": "execute_result"
    }
   ],
   "source": [
    "day = 60*60*24\n",
    "year = 365.2425*day\n",
    "\n",
    "temp_df['Day sin'] = np.sin(temp_df['seconds'] * (2* np.pi /day))\n",
    "temp_df['Day cos'] = np.cos(temp_df['seconds'] * (2* np.pi /day))\n",
    "temp_df['Year sin'] = np.sin(temp_df['seconds'] * (2* np.pi /year))\n",
    "temp_df['Year cos'] = np.cos(temp_df['seconds'] * (2* np.pi /year))\n",
    "temp_df.head()"
   ]
  },
  {
   "cell_type": "code",
   "execution_count": 10,
   "id": "d4c74a18",
   "metadata": {},
   "outputs": [
    {
     "data": {
      "text/plain": [
       "temp                  0\n",
       "dew                   0\n",
       "humidity              0\n",
       "windspeed             0\n",
       "winddir               0\n",
       "sealevelpressure    313\n",
       "cloudcover            0\n",
       "visibility          182\n",
       "uvindex              77\n",
       "conditions            0\n",
       "seconds               0\n",
       "Day sin               0\n",
       "Day cos               0\n",
       "Year sin              0\n",
       "Year cos              0\n",
       "dtype: int64"
      ]
     },
     "execution_count": 10,
     "metadata": {},
     "output_type": "execute_result"
    }
   ],
   "source": [
    "temp_df.isna().sum()"
   ]
  },
  {
   "cell_type": "code",
   "execution_count": 11,
   "id": "af3e4143",
   "metadata": {},
   "outputs": [
    {
     "data": {
      "text/plain": [
       "temp                  691\n",
       "dew                   552\n",
       "humidity             6167\n",
       "windspeed             189\n",
       "winddir              1145\n",
       "sealevelpressure      336\n",
       "cloudcover            768\n",
       "visibility             45\n",
       "uvindex                11\n",
       "conditions              7\n",
       "seconds             26424\n",
       "Day sin             24224\n",
       "Day cos             24224\n",
       "Year sin            26424\n",
       "Year cos            26424\n",
       "dtype: int64"
      ]
     },
     "execution_count": 11,
     "metadata": {},
     "output_type": "execute_result"
    }
   ],
   "source": [
    "temp_df.nunique()"
   ]
  },
  {
   "cell_type": "code",
   "execution_count": 12,
   "id": "ae3275dd",
   "metadata": {},
   "outputs": [
    {
     "data": {
      "text/plain": [
       "45"
      ]
     },
     "execution_count": 12,
     "metadata": {},
     "output_type": "execute_result"
    }
   ],
   "source": [
    "temp_df['visibility'].nunique()"
   ]
  },
  {
   "cell_type": "code",
   "execution_count": 13,
   "id": "19ea56ba",
   "metadata": {},
   "outputs": [
    {
     "data": {
      "text/plain": [
       "0.0"
      ]
     },
     "execution_count": 13,
     "metadata": {},
     "output_type": "execute_result"
    }
   ],
   "source": [
    "temp_df['uvindex'].value_counts().idxmax()"
   ]
  },
  {
   "cell_type": "code",
   "execution_count": 14,
   "id": "aa4f3f88",
   "metadata": {},
   "outputs": [],
   "source": [
    "temp_df['sealevelpressure'].fillna(np.mean(temp_df['sealevelpressure']) , inplace = True)\n",
    "temp_df['visibility'].fillna(np.mean(temp_df['visibility']) , inplace = True)\n",
    "temp_df['uvindex'].fillna(temp_df['uvindex'].value_counts().idxmax(), inplace = True)"
   ]
  },
  {
   "cell_type": "code",
   "execution_count": 15,
   "id": "5c56a933",
   "metadata": {},
   "outputs": [
    {
     "data": {
      "text/plain": [
       "temp                0\n",
       "dew                 0\n",
       "humidity            0\n",
       "windspeed           0\n",
       "winddir             0\n",
       "sealevelpressure    0\n",
       "cloudcover          0\n",
       "visibility          0\n",
       "uvindex             0\n",
       "conditions          0\n",
       "seconds             0\n",
       "Day sin             0\n",
       "Day cos             0\n",
       "Year sin            0\n",
       "Year cos            0\n",
       "dtype: int64"
      ]
     },
     "execution_count": 15,
     "metadata": {},
     "output_type": "execute_result"
    }
   ],
   "source": [
    "temp_df.isna().sum()"
   ]
  },
  {
   "cell_type": "code",
   "execution_count": 16,
   "id": "c2f45277",
   "metadata": {},
   "outputs": [
    {
     "data": {
      "text/html": [
       "<div>\n",
       "<style scoped>\n",
       "    .dataframe tbody tr th:only-of-type {\n",
       "        vertical-align: middle;\n",
       "    }\n",
       "\n",
       "    .dataframe tbody tr th {\n",
       "        vertical-align: top;\n",
       "    }\n",
       "\n",
       "    .dataframe thead th {\n",
       "        text-align: right;\n",
       "    }\n",
       "</style>\n",
       "<table border=\"1\" class=\"dataframe\">\n",
       "  <thead>\n",
       "    <tr style=\"text-align: right;\">\n",
       "      <th></th>\n",
       "      <th>temp</th>\n",
       "      <th>dew</th>\n",
       "      <th>humidity</th>\n",
       "      <th>windspeed</th>\n",
       "      <th>winddir</th>\n",
       "      <th>sealevelpressure</th>\n",
       "      <th>cloudcover</th>\n",
       "      <th>visibility</th>\n",
       "      <th>uvindex</th>\n",
       "      <th>conditions</th>\n",
       "      <th>seconds</th>\n",
       "      <th>Day sin</th>\n",
       "      <th>Day cos</th>\n",
       "      <th>Year sin</th>\n",
       "      <th>Year cos</th>\n",
       "    </tr>\n",
       "    <tr>\n",
       "      <th>datetime</th>\n",
       "      <th></th>\n",
       "      <th></th>\n",
       "      <th></th>\n",
       "      <th></th>\n",
       "      <th></th>\n",
       "      <th></th>\n",
       "      <th></th>\n",
       "      <th></th>\n",
       "      <th></th>\n",
       "      <th></th>\n",
       "      <th></th>\n",
       "      <th></th>\n",
       "      <th></th>\n",
       "      <th></th>\n",
       "      <th></th>\n",
       "    </tr>\n",
       "  </thead>\n",
       "  <tbody>\n",
       "    <tr>\n",
       "      <th>2022-08-08 00:00:00</th>\n",
       "      <td>80.6</td>\n",
       "      <td>78.8</td>\n",
       "      <td>94.27</td>\n",
       "      <td>4.7</td>\n",
       "      <td>120.0</td>\n",
       "      <td>1001.0</td>\n",
       "      <td>88.9</td>\n",
       "      <td>1.9</td>\n",
       "      <td>0.0</td>\n",
       "      <td>Partially cloudy</td>\n",
       "      <td>1.659917e+09</td>\n",
       "      <td>-1.314683e-11</td>\n",
       "      <td>1.000000</td>\n",
       "      <td>-0.591183</td>\n",
       "      <td>-0.806538</td>\n",
       "    </tr>\n",
       "    <tr>\n",
       "      <th>2022-08-08 01:00:00</th>\n",
       "      <td>78.8</td>\n",
       "      <td>78.8</td>\n",
       "      <td>100.00</td>\n",
       "      <td>3.4</td>\n",
       "      <td>100.0</td>\n",
       "      <td>1001.0</td>\n",
       "      <td>88.9</td>\n",
       "      <td>1.9</td>\n",
       "      <td>0.0</td>\n",
       "      <td>Partially cloudy</td>\n",
       "      <td>1.659920e+09</td>\n",
       "      <td>2.588190e-01</td>\n",
       "      <td>0.965926</td>\n",
       "      <td>-0.591761</td>\n",
       "      <td>-0.806114</td>\n",
       "    </tr>\n",
       "    <tr>\n",
       "      <th>2022-08-08 02:00:00</th>\n",
       "      <td>79.7</td>\n",
       "      <td>78.2</td>\n",
       "      <td>95.11</td>\n",
       "      <td>0.0</td>\n",
       "      <td>100.2</td>\n",
       "      <td>999.0</td>\n",
       "      <td>67.0</td>\n",
       "      <td>1.3</td>\n",
       "      <td>0.0</td>\n",
       "      <td>Partially cloudy</td>\n",
       "      <td>1.659924e+09</td>\n",
       "      <td>5.000000e-01</td>\n",
       "      <td>0.866025</td>\n",
       "      <td>-0.592338</td>\n",
       "      <td>-0.805689</td>\n",
       "    </tr>\n",
       "    <tr>\n",
       "      <th>2022-08-08 03:00:00</th>\n",
       "      <td>78.8</td>\n",
       "      <td>78.8</td>\n",
       "      <td>100.00</td>\n",
       "      <td>0.0</td>\n",
       "      <td>0.0</td>\n",
       "      <td>1000.0</td>\n",
       "      <td>88.9</td>\n",
       "      <td>1.9</td>\n",
       "      <td>0.0</td>\n",
       "      <td>Partially cloudy</td>\n",
       "      <td>1.659928e+09</td>\n",
       "      <td>7.071068e-01</td>\n",
       "      <td>0.707107</td>\n",
       "      <td>-0.592916</td>\n",
       "      <td>-0.805264</td>\n",
       "    </tr>\n",
       "    <tr>\n",
       "      <th>2022-08-08 04:00:00</th>\n",
       "      <td>78.8</td>\n",
       "      <td>78.8</td>\n",
       "      <td>100.00</td>\n",
       "      <td>0.0</td>\n",
       "      <td>0.0</td>\n",
       "      <td>1000.0</td>\n",
       "      <td>88.9</td>\n",
       "      <td>1.9</td>\n",
       "      <td>0.0</td>\n",
       "      <td>Partially cloudy</td>\n",
       "      <td>1.659931e+09</td>\n",
       "      <td>8.660254e-01</td>\n",
       "      <td>0.500000</td>\n",
       "      <td>-0.593493</td>\n",
       "      <td>-0.804839</td>\n",
       "    </tr>\n",
       "  </tbody>\n",
       "</table>\n",
       "</div>"
      ],
      "text/plain": [
       "                     temp   dew  humidity  windspeed  winddir  \\\n",
       "datetime                                                        \n",
       "2022-08-08 00:00:00  80.6  78.8     94.27        4.7    120.0   \n",
       "2022-08-08 01:00:00  78.8  78.8    100.00        3.4    100.0   \n",
       "2022-08-08 02:00:00  79.7  78.2     95.11        0.0    100.2   \n",
       "2022-08-08 03:00:00  78.8  78.8    100.00        0.0      0.0   \n",
       "2022-08-08 04:00:00  78.8  78.8    100.00        0.0      0.0   \n",
       "\n",
       "                     sealevelpressure  cloudcover  visibility  uvindex  \\\n",
       "datetime                                                                 \n",
       "2022-08-08 00:00:00            1001.0        88.9         1.9      0.0   \n",
       "2022-08-08 01:00:00            1001.0        88.9         1.9      0.0   \n",
       "2022-08-08 02:00:00             999.0        67.0         1.3      0.0   \n",
       "2022-08-08 03:00:00            1000.0        88.9         1.9      0.0   \n",
       "2022-08-08 04:00:00            1000.0        88.9         1.9      0.0   \n",
       "\n",
       "                           conditions       seconds       Day sin   Day cos  \\\n",
       "datetime                                                                      \n",
       "2022-08-08 00:00:00  Partially cloudy  1.659917e+09 -1.314683e-11  1.000000   \n",
       "2022-08-08 01:00:00  Partially cloudy  1.659920e+09  2.588190e-01  0.965926   \n",
       "2022-08-08 02:00:00  Partially cloudy  1.659924e+09  5.000000e-01  0.866025   \n",
       "2022-08-08 03:00:00  Partially cloudy  1.659928e+09  7.071068e-01  0.707107   \n",
       "2022-08-08 04:00:00  Partially cloudy  1.659931e+09  8.660254e-01  0.500000   \n",
       "\n",
       "                     Year sin  Year cos  \n",
       "datetime                                 \n",
       "2022-08-08 00:00:00 -0.591183 -0.806538  \n",
       "2022-08-08 01:00:00 -0.591761 -0.806114  \n",
       "2022-08-08 02:00:00 -0.592338 -0.805689  \n",
       "2022-08-08 03:00:00 -0.592916 -0.805264  \n",
       "2022-08-08 04:00:00 -0.593493 -0.804839  "
      ]
     },
     "execution_count": 16,
     "metadata": {},
     "output_type": "execute_result"
    }
   ],
   "source": [
    "temp_df.head()"
   ]
  },
  {
   "cell_type": "code",
   "execution_count": 17,
   "id": "f1e0beb1",
   "metadata": {},
   "outputs": [],
   "source": [
    "temp_df['dew'] = (temp_df['dew'] - np.mean(temp_df['dew'])) / np.std(temp_df['dew'])\n",
    "temp_df['humidity'] = (temp_df['humidity'] - np.mean(temp_df['humidity'])) / np.std(temp_df['humidity'])\n",
    "temp_df['winddir'] = np.cos(temp_df['winddir'])\n",
    "temp_df['windspeed'] = (temp_df['windspeed'] - np.mean(temp_df['windspeed'])) / np.std(temp_df['windspeed'])\n",
    "temp_df['cloudcover'] = (temp_df['cloudcover'] - np.mean(temp_df['cloudcover'])) / np.std(temp_df['cloudcover'])\n",
    "temp_df['temp'] = (temp_df['temp'] - np.mean(temp_df['temp'])) / np.std(temp_df['temp'])\n",
    "temp_df['sealevelpressure'] = (temp_df['sealevelpressure'] - np.mean(temp_df['sealevelpressure'])) / np.std(temp_df['sealevelpressure'])\n"
   ]
  },
  {
   "cell_type": "code",
   "execution_count": 18,
   "id": "05e2c799",
   "metadata": {},
   "outputs": [
    {
     "data": {
      "text/html": [
       "<div>\n",
       "<style scoped>\n",
       "    .dataframe tbody tr th:only-of-type {\n",
       "        vertical-align: middle;\n",
       "    }\n",
       "\n",
       "    .dataframe tbody tr th {\n",
       "        vertical-align: top;\n",
       "    }\n",
       "\n",
       "    .dataframe thead th {\n",
       "        text-align: right;\n",
       "    }\n",
       "</style>\n",
       "<table border=\"1\" class=\"dataframe\">\n",
       "  <thead>\n",
       "    <tr style=\"text-align: right;\">\n",
       "      <th></th>\n",
       "      <th>temp</th>\n",
       "      <th>dew</th>\n",
       "      <th>humidity</th>\n",
       "      <th>windspeed</th>\n",
       "      <th>winddir</th>\n",
       "      <th>sealevelpressure</th>\n",
       "      <th>cloudcover</th>\n",
       "      <th>visibility</th>\n",
       "      <th>uvindex</th>\n",
       "      <th>conditions</th>\n",
       "      <th>seconds</th>\n",
       "      <th>Day sin</th>\n",
       "      <th>Day cos</th>\n",
       "      <th>Year sin</th>\n",
       "      <th>Year cos</th>\n",
       "    </tr>\n",
       "    <tr>\n",
       "      <th>datetime</th>\n",
       "      <th></th>\n",
       "      <th></th>\n",
       "      <th></th>\n",
       "      <th></th>\n",
       "      <th></th>\n",
       "      <th></th>\n",
       "      <th></th>\n",
       "      <th></th>\n",
       "      <th></th>\n",
       "      <th></th>\n",
       "      <th></th>\n",
       "      <th></th>\n",
       "      <th></th>\n",
       "      <th></th>\n",
       "      <th></th>\n",
       "    </tr>\n",
       "  </thead>\n",
       "  <tbody>\n",
       "    <tr>\n",
       "      <th>2022-08-08 00:00:00</th>\n",
       "      <td>0.231107</td>\n",
       "      <td>1.306233</td>\n",
       "      <td>1.202969</td>\n",
       "      <td>0.109668</td>\n",
       "      <td>0.814181</td>\n",
       "      <td>-1.121732</td>\n",
       "      <td>1.470245</td>\n",
       "      <td>1.9</td>\n",
       "      <td>0.0</td>\n",
       "      <td>Partially cloudy</td>\n",
       "      <td>1.659917e+09</td>\n",
       "      <td>-1.314683e-11</td>\n",
       "      <td>1.000000</td>\n",
       "      <td>-0.591183</td>\n",
       "      <td>-0.806538</td>\n",
       "    </tr>\n",
       "    <tr>\n",
       "      <th>2022-08-08 01:00:00</th>\n",
       "      <td>0.107127</td>\n",
       "      <td>1.306233</td>\n",
       "      <td>1.438125</td>\n",
       "      <td>-0.268146</td>\n",
       "      <td>0.862319</td>\n",
       "      <td>-1.121732</td>\n",
       "      <td>1.470245</td>\n",
       "      <td>1.9</td>\n",
       "      <td>0.0</td>\n",
       "      <td>Partially cloudy</td>\n",
       "      <td>1.659920e+09</td>\n",
       "      <td>2.588190e-01</td>\n",
       "      <td>0.965926</td>\n",
       "      <td>-0.591761</td>\n",
       "      <td>-0.806114</td>\n",
       "    </tr>\n",
       "    <tr>\n",
       "      <th>2022-08-08 02:00:00</th>\n",
       "      <td>0.169117</td>\n",
       "      <td>1.260376</td>\n",
       "      <td>1.237442</td>\n",
       "      <td>-1.256276</td>\n",
       "      <td>0.945729</td>\n",
       "      <td>-1.418643</td>\n",
       "      <td>0.849506</td>\n",
       "      <td>1.3</td>\n",
       "      <td>0.0</td>\n",
       "      <td>Partially cloudy</td>\n",
       "      <td>1.659924e+09</td>\n",
       "      <td>5.000000e-01</td>\n",
       "      <td>0.866025</td>\n",
       "      <td>-0.592338</td>\n",
       "      <td>-0.805689</td>\n",
       "    </tr>\n",
       "    <tr>\n",
       "      <th>2022-08-08 03:00:00</th>\n",
       "      <td>0.107127</td>\n",
       "      <td>1.306233</td>\n",
       "      <td>1.438125</td>\n",
       "      <td>-1.256276</td>\n",
       "      <td>1.000000</td>\n",
       "      <td>-1.270188</td>\n",
       "      <td>1.470245</td>\n",
       "      <td>1.9</td>\n",
       "      <td>0.0</td>\n",
       "      <td>Partially cloudy</td>\n",
       "      <td>1.659928e+09</td>\n",
       "      <td>7.071068e-01</td>\n",
       "      <td>0.707107</td>\n",
       "      <td>-0.592916</td>\n",
       "      <td>-0.805264</td>\n",
       "    </tr>\n",
       "    <tr>\n",
       "      <th>2022-08-08 04:00:00</th>\n",
       "      <td>0.107127</td>\n",
       "      <td>1.306233</td>\n",
       "      <td>1.438125</td>\n",
       "      <td>-1.256276</td>\n",
       "      <td>1.000000</td>\n",
       "      <td>-1.270188</td>\n",
       "      <td>1.470245</td>\n",
       "      <td>1.9</td>\n",
       "      <td>0.0</td>\n",
       "      <td>Partially cloudy</td>\n",
       "      <td>1.659931e+09</td>\n",
       "      <td>8.660254e-01</td>\n",
       "      <td>0.500000</td>\n",
       "      <td>-0.593493</td>\n",
       "      <td>-0.804839</td>\n",
       "    </tr>\n",
       "  </tbody>\n",
       "</table>\n",
       "</div>"
      ],
      "text/plain": [
       "                         temp       dew  humidity  windspeed   winddir  \\\n",
       "datetime                                                                 \n",
       "2022-08-08 00:00:00  0.231107  1.306233  1.202969   0.109668  0.814181   \n",
       "2022-08-08 01:00:00  0.107127  1.306233  1.438125  -0.268146  0.862319   \n",
       "2022-08-08 02:00:00  0.169117  1.260376  1.237442  -1.256276  0.945729   \n",
       "2022-08-08 03:00:00  0.107127  1.306233  1.438125  -1.256276  1.000000   \n",
       "2022-08-08 04:00:00  0.107127  1.306233  1.438125  -1.256276  1.000000   \n",
       "\n",
       "                     sealevelpressure  cloudcover  visibility  uvindex  \\\n",
       "datetime                                                                 \n",
       "2022-08-08 00:00:00         -1.121732    1.470245         1.9      0.0   \n",
       "2022-08-08 01:00:00         -1.121732    1.470245         1.9      0.0   \n",
       "2022-08-08 02:00:00         -1.418643    0.849506         1.3      0.0   \n",
       "2022-08-08 03:00:00         -1.270188    1.470245         1.9      0.0   \n",
       "2022-08-08 04:00:00         -1.270188    1.470245         1.9      0.0   \n",
       "\n",
       "                           conditions       seconds       Day sin   Day cos  \\\n",
       "datetime                                                                      \n",
       "2022-08-08 00:00:00  Partially cloudy  1.659917e+09 -1.314683e-11  1.000000   \n",
       "2022-08-08 01:00:00  Partially cloudy  1.659920e+09  2.588190e-01  0.965926   \n",
       "2022-08-08 02:00:00  Partially cloudy  1.659924e+09  5.000000e-01  0.866025   \n",
       "2022-08-08 03:00:00  Partially cloudy  1.659928e+09  7.071068e-01  0.707107   \n",
       "2022-08-08 04:00:00  Partially cloudy  1.659931e+09  8.660254e-01  0.500000   \n",
       "\n",
       "                     Year sin  Year cos  \n",
       "datetime                                 \n",
       "2022-08-08 00:00:00 -0.591183 -0.806538  \n",
       "2022-08-08 01:00:00 -0.591761 -0.806114  \n",
       "2022-08-08 02:00:00 -0.592338 -0.805689  \n",
       "2022-08-08 03:00:00 -0.592916 -0.805264  \n",
       "2022-08-08 04:00:00 -0.593493 -0.804839  "
      ]
     },
     "execution_count": 18,
     "metadata": {},
     "output_type": "execute_result"
    }
   ],
   "source": [
    "temp_df.head()"
   ]
  },
  {
   "cell_type": "code",
   "execution_count": 19,
   "id": "d65e4de1",
   "metadata": {},
   "outputs": [],
   "source": [
    "X = temp_df.drop('conditions' , axis = 1)"
   ]
  },
  {
   "cell_type": "code",
   "execution_count": 20,
   "id": "41ca2824",
   "metadata": {},
   "outputs": [
    {
     "data": {
      "text/html": [
       "<div>\n",
       "<style scoped>\n",
       "    .dataframe tbody tr th:only-of-type {\n",
       "        vertical-align: middle;\n",
       "    }\n",
       "\n",
       "    .dataframe tbody tr th {\n",
       "        vertical-align: top;\n",
       "    }\n",
       "\n",
       "    .dataframe thead th {\n",
       "        text-align: right;\n",
       "    }\n",
       "</style>\n",
       "<table border=\"1\" class=\"dataframe\">\n",
       "  <thead>\n",
       "    <tr style=\"text-align: right;\">\n",
       "      <th></th>\n",
       "      <th>temp</th>\n",
       "      <th>dew</th>\n",
       "      <th>humidity</th>\n",
       "      <th>windspeed</th>\n",
       "      <th>winddir</th>\n",
       "      <th>sealevelpressure</th>\n",
       "      <th>cloudcover</th>\n",
       "      <th>visibility</th>\n",
       "      <th>uvindex</th>\n",
       "      <th>seconds</th>\n",
       "      <th>Day sin</th>\n",
       "      <th>Day cos</th>\n",
       "      <th>Year sin</th>\n",
       "      <th>Year cos</th>\n",
       "    </tr>\n",
       "    <tr>\n",
       "      <th>datetime</th>\n",
       "      <th></th>\n",
       "      <th></th>\n",
       "      <th></th>\n",
       "      <th></th>\n",
       "      <th></th>\n",
       "      <th></th>\n",
       "      <th></th>\n",
       "      <th></th>\n",
       "      <th></th>\n",
       "      <th></th>\n",
       "      <th></th>\n",
       "      <th></th>\n",
       "      <th></th>\n",
       "      <th></th>\n",
       "    </tr>\n",
       "  </thead>\n",
       "  <tbody>\n",
       "    <tr>\n",
       "      <th>2022-08-08 00:00:00</th>\n",
       "      <td>0.231107</td>\n",
       "      <td>1.306233</td>\n",
       "      <td>1.202969</td>\n",
       "      <td>0.109668</td>\n",
       "      <td>0.814181</td>\n",
       "      <td>-1.121732</td>\n",
       "      <td>1.470245</td>\n",
       "      <td>1.9</td>\n",
       "      <td>0.0</td>\n",
       "      <td>1.659917e+09</td>\n",
       "      <td>-1.314683e-11</td>\n",
       "      <td>1.000000</td>\n",
       "      <td>-0.591183</td>\n",
       "      <td>-0.806538</td>\n",
       "    </tr>\n",
       "    <tr>\n",
       "      <th>2022-08-08 01:00:00</th>\n",
       "      <td>0.107127</td>\n",
       "      <td>1.306233</td>\n",
       "      <td>1.438125</td>\n",
       "      <td>-0.268146</td>\n",
       "      <td>0.862319</td>\n",
       "      <td>-1.121732</td>\n",
       "      <td>1.470245</td>\n",
       "      <td>1.9</td>\n",
       "      <td>0.0</td>\n",
       "      <td>1.659920e+09</td>\n",
       "      <td>2.588190e-01</td>\n",
       "      <td>0.965926</td>\n",
       "      <td>-0.591761</td>\n",
       "      <td>-0.806114</td>\n",
       "    </tr>\n",
       "    <tr>\n",
       "      <th>2022-08-08 02:00:00</th>\n",
       "      <td>0.169117</td>\n",
       "      <td>1.260376</td>\n",
       "      <td>1.237442</td>\n",
       "      <td>-1.256276</td>\n",
       "      <td>0.945729</td>\n",
       "      <td>-1.418643</td>\n",
       "      <td>0.849506</td>\n",
       "      <td>1.3</td>\n",
       "      <td>0.0</td>\n",
       "      <td>1.659924e+09</td>\n",
       "      <td>5.000000e-01</td>\n",
       "      <td>0.866025</td>\n",
       "      <td>-0.592338</td>\n",
       "      <td>-0.805689</td>\n",
       "    </tr>\n",
       "    <tr>\n",
       "      <th>2022-08-08 03:00:00</th>\n",
       "      <td>0.107127</td>\n",
       "      <td>1.306233</td>\n",
       "      <td>1.438125</td>\n",
       "      <td>-1.256276</td>\n",
       "      <td>1.000000</td>\n",
       "      <td>-1.270188</td>\n",
       "      <td>1.470245</td>\n",
       "      <td>1.9</td>\n",
       "      <td>0.0</td>\n",
       "      <td>1.659928e+09</td>\n",
       "      <td>7.071068e-01</td>\n",
       "      <td>0.707107</td>\n",
       "      <td>-0.592916</td>\n",
       "      <td>-0.805264</td>\n",
       "    </tr>\n",
       "    <tr>\n",
       "      <th>2022-08-08 04:00:00</th>\n",
       "      <td>0.107127</td>\n",
       "      <td>1.306233</td>\n",
       "      <td>1.438125</td>\n",
       "      <td>-1.256276</td>\n",
       "      <td>1.000000</td>\n",
       "      <td>-1.270188</td>\n",
       "      <td>1.470245</td>\n",
       "      <td>1.9</td>\n",
       "      <td>0.0</td>\n",
       "      <td>1.659931e+09</td>\n",
       "      <td>8.660254e-01</td>\n",
       "      <td>0.500000</td>\n",
       "      <td>-0.593493</td>\n",
       "      <td>-0.804839</td>\n",
       "    </tr>\n",
       "  </tbody>\n",
       "</table>\n",
       "</div>"
      ],
      "text/plain": [
       "                         temp       dew  humidity  windspeed   winddir  \\\n",
       "datetime                                                                 \n",
       "2022-08-08 00:00:00  0.231107  1.306233  1.202969   0.109668  0.814181   \n",
       "2022-08-08 01:00:00  0.107127  1.306233  1.438125  -0.268146  0.862319   \n",
       "2022-08-08 02:00:00  0.169117  1.260376  1.237442  -1.256276  0.945729   \n",
       "2022-08-08 03:00:00  0.107127  1.306233  1.438125  -1.256276  1.000000   \n",
       "2022-08-08 04:00:00  0.107127  1.306233  1.438125  -1.256276  1.000000   \n",
       "\n",
       "                     sealevelpressure  cloudcover  visibility  uvindex  \\\n",
       "datetime                                                                 \n",
       "2022-08-08 00:00:00         -1.121732    1.470245         1.9      0.0   \n",
       "2022-08-08 01:00:00         -1.121732    1.470245         1.9      0.0   \n",
       "2022-08-08 02:00:00         -1.418643    0.849506         1.3      0.0   \n",
       "2022-08-08 03:00:00         -1.270188    1.470245         1.9      0.0   \n",
       "2022-08-08 04:00:00         -1.270188    1.470245         1.9      0.0   \n",
       "\n",
       "                          seconds       Day sin   Day cos  Year sin  Year cos  \n",
       "datetime                                                                       \n",
       "2022-08-08 00:00:00  1.659917e+09 -1.314683e-11  1.000000 -0.591183 -0.806538  \n",
       "2022-08-08 01:00:00  1.659920e+09  2.588190e-01  0.965926 -0.591761 -0.806114  \n",
       "2022-08-08 02:00:00  1.659924e+09  5.000000e-01  0.866025 -0.592338 -0.805689  \n",
       "2022-08-08 03:00:00  1.659928e+09  7.071068e-01  0.707107 -0.592916 -0.805264  \n",
       "2022-08-08 04:00:00  1.659931e+09  8.660254e-01  0.500000 -0.593493 -0.804839  "
      ]
     },
     "execution_count": 20,
     "metadata": {},
     "output_type": "execute_result"
    }
   ],
   "source": [
    "X.head()"
   ]
  },
  {
   "cell_type": "code",
   "execution_count": 21,
   "id": "530acefb",
   "metadata": {},
   "outputs": [],
   "source": [
    " Y = pd.DataFrame({'conditions' : temp_df['conditions']})"
   ]
  },
  {
   "cell_type": "code",
   "execution_count": 22,
   "id": "9e8379e9",
   "metadata": {},
   "outputs": [
    {
     "data": {
      "text/html": [
       "<div>\n",
       "<style scoped>\n",
       "    .dataframe tbody tr th:only-of-type {\n",
       "        vertical-align: middle;\n",
       "    }\n",
       "\n",
       "    .dataframe tbody tr th {\n",
       "        vertical-align: top;\n",
       "    }\n",
       "\n",
       "    .dataframe thead th {\n",
       "        text-align: right;\n",
       "    }\n",
       "</style>\n",
       "<table border=\"1\" class=\"dataframe\">\n",
       "  <thead>\n",
       "    <tr style=\"text-align: right;\">\n",
       "      <th></th>\n",
       "      <th>conditions</th>\n",
       "    </tr>\n",
       "    <tr>\n",
       "      <th>datetime</th>\n",
       "      <th></th>\n",
       "    </tr>\n",
       "  </thead>\n",
       "  <tbody>\n",
       "    <tr>\n",
       "      <th>2022-08-08 00:00:00</th>\n",
       "      <td>Partially cloudy</td>\n",
       "    </tr>\n",
       "    <tr>\n",
       "      <th>2022-08-08 01:00:00</th>\n",
       "      <td>Partially cloudy</td>\n",
       "    </tr>\n",
       "    <tr>\n",
       "      <th>2022-08-08 02:00:00</th>\n",
       "      <td>Partially cloudy</td>\n",
       "    </tr>\n",
       "    <tr>\n",
       "      <th>2022-08-08 03:00:00</th>\n",
       "      <td>Partially cloudy</td>\n",
       "    </tr>\n",
       "    <tr>\n",
       "      <th>2022-08-08 04:00:00</th>\n",
       "      <td>Partially cloudy</td>\n",
       "    </tr>\n",
       "  </tbody>\n",
       "</table>\n",
       "</div>"
      ],
      "text/plain": [
       "                           conditions\n",
       "datetime                             \n",
       "2022-08-08 00:00:00  Partially cloudy\n",
       "2022-08-08 01:00:00  Partially cloudy\n",
       "2022-08-08 02:00:00  Partially cloudy\n",
       "2022-08-08 03:00:00  Partially cloudy\n",
       "2022-08-08 04:00:00  Partially cloudy"
      ]
     },
     "execution_count": 22,
     "metadata": {},
     "output_type": "execute_result"
    }
   ],
   "source": [
    "Y.head()"
   ]
  },
  {
   "cell_type": "code",
   "execution_count": 28,
   "id": "ce823bc2",
   "metadata": {},
   "outputs": [],
   "source": [
    "import tensorflow as tf"
   ]
  },
  {
   "cell_type": "code",
   "execution_count": 23,
   "id": "9618b15d",
   "metadata": {},
   "outputs": [
    {
     "data": {
      "text/plain": [
       "7"
      ]
     },
     "execution_count": 23,
     "metadata": {},
     "output_type": "execute_result"
    }
   ],
   "source": [
    "Y['conditions'].nunique()"
   ]
  },
  {
   "cell_type": "code",
   "execution_count": 24,
   "id": "5201f862",
   "metadata": {},
   "outputs": [],
   "source": [
    "condition = list(Y['conditions'].unique())"
   ]
  },
  {
   "cell_type": "code",
   "execution_count": 25,
   "id": "6a4196fb",
   "metadata": {},
   "outputs": [],
   "source": [
    "y = Y['conditions'].apply(lambda x: condition.index(x))"
   ]
  },
  {
   "cell_type": "code",
   "execution_count": 26,
   "id": "c048e156",
   "metadata": {},
   "outputs": [
    {
     "data": {
      "text/plain": [
       "7"
      ]
     },
     "execution_count": 26,
     "metadata": {},
     "output_type": "execute_result"
    }
   ],
   "source": [
    "y.nunique()"
   ]
  },
  {
   "cell_type": "code",
   "execution_count": 29,
   "id": "d87ae0a9",
   "metadata": {},
   "outputs": [],
   "source": [
    "y = tf.one_hot(y, depth = 7)"
   ]
  },
  {
   "cell_type": "code",
   "execution_count": 30,
   "id": "cb428f1f",
   "metadata": {},
   "outputs": [
    {
     "data": {
      "text/plain": [
       "<tf.Tensor: shape=(10, 7), dtype=float32, numpy=\n",
       "array([[1., 0., 0., 0., 0., 0., 0.],\n",
       "       [1., 0., 0., 0., 0., 0., 0.],\n",
       "       [1., 0., 0., 0., 0., 0., 0.],\n",
       "       [1., 0., 0., 0., 0., 0., 0.],\n",
       "       [1., 0., 0., 0., 0., 0., 0.],\n",
       "       [1., 0., 0., 0., 0., 0., 0.],\n",
       "       [1., 0., 0., 0., 0., 0., 0.],\n",
       "       [1., 0., 0., 0., 0., 0., 0.],\n",
       "       [1., 0., 0., 0., 0., 0., 0.],\n",
       "       [1., 0., 0., 0., 0., 0., 0.]], dtype=float32)>"
      ]
     },
     "execution_count": 30,
     "metadata": {},
     "output_type": "execute_result"
    }
   ],
   "source": [
    "y[:10]"
   ]
  },
  {
   "cell_type": "code",
   "execution_count": 31,
   "id": "ed7765a7",
   "metadata": {},
   "outputs": [
    {
     "data": {
      "text/plain": [
       "(26424, 14)"
      ]
     },
     "execution_count": 31,
     "metadata": {},
     "output_type": "execute_result"
    }
   ],
   "source": [
    "X.shape"
   ]
  },
  {
   "cell_type": "code",
   "execution_count": 35,
   "id": "5ebfb5e3",
   "metadata": {},
   "outputs": [
    {
     "name": "stdout",
     "output_type": "stream",
     "text": [
      "Model: \"sequential_3\"\n",
      "_________________________________________________________________\n",
      " Layer (type)                Output Shape              Param #   \n",
      "=================================================================\n",
      " lstm_6 (LSTM)               (None, 14, 64)            16896     \n",
      "                                                                 \n",
      " lstm_7 (LSTM)               (None, 32)                12416     \n",
      "                                                                 \n",
      " dense_6 (Dense)             (None, 16)                528       \n",
      "                                                                 \n",
      " dense_7 (Dense)             (None, 7)                 119       \n",
      "                                                                 \n",
      "=================================================================\n",
      "Total params: 29959 (117.03 KB)\n",
      "Trainable params: 29959 (117.03 KB)\n",
      "Non-trainable params: 0 (0.00 Byte)\n",
      "_________________________________________________________________\n"
     ]
    }
   ],
   "source": [
    "model8 = tf.keras.Sequential([\n",
    "    tf.keras.Input((14,1)),\n",
    "    tf.keras.layers.LSTM(64 , return_sequences = True),\n",
    "    tf.keras.layers.LSTM(32),\n",
    "    tf.keras.layers.Dense(16 , activation = 'relu'),\n",
    "    tf.keras.layers.Dense(7 , activation = 'softmax')\n",
    "])\n",
    "\n",
    "model8.summary()"
   ]
  },
  {
   "cell_type": "code",
   "execution_count": 36,
   "id": "55c24003",
   "metadata": {},
   "outputs": [],
   "source": [
    "model8.compile(loss = tf.keras.losses.CategoricalCrossentropy(),\n",
    "               optimizer = 'adam',\n",
    "              metrics = ['accuracy'])"
   ]
  },
  {
   "cell_type": "code",
   "execution_count": 37,
   "id": "89071631",
   "metadata": {},
   "outputs": [],
   "source": [
    "X_data = X.to_numpy()\n",
    "X_train , y_train = X_data[:23000] , y[:23000]\n",
    "X_val , y_val = X_data[23000:24000] , y[23000:24000]\n",
    "X_test, y_test = X_data[24000:], y[24000:]"
   ]
  },
  {
   "cell_type": "code",
   "execution_count": 38,
   "id": "43619230",
   "metadata": {},
   "outputs": [
    {
     "name": "stdout",
     "output_type": "stream",
     "text": [
      "Epoch 1/10\n",
      "719/719 [==============================] - 30s 30ms/step - loss: 0.5705 - accuracy: 0.8017 - val_loss: 0.0848 - val_accuracy: 0.9810\n",
      "Epoch 2/10\n",
      "719/719 [==============================] - 20s 27ms/step - loss: 0.2522 - accuracy: 0.9231 - val_loss: 0.0519 - val_accuracy: 0.9870\n",
      "Epoch 3/10\n",
      "719/719 [==============================] - 20s 28ms/step - loss: 0.2078 - accuracy: 0.9339 - val_loss: 0.0762 - val_accuracy: 0.9810\n",
      "Epoch 4/10\n",
      "719/719 [==============================] - 20s 27ms/step - loss: 0.1791 - accuracy: 0.9453 - val_loss: 0.0317 - val_accuracy: 0.9940\n",
      "Epoch 5/10\n",
      "719/719 [==============================] - 20s 27ms/step - loss: 0.1572 - accuracy: 0.9500 - val_loss: 0.0277 - val_accuracy: 0.9940\n",
      "Epoch 6/10\n",
      "719/719 [==============================] - 19s 27ms/step - loss: 0.1321 - accuracy: 0.9574 - val_loss: 0.0339 - val_accuracy: 0.9950\n",
      "Epoch 7/10\n",
      "719/719 [==============================] - 20s 27ms/step - loss: 0.1132 - accuracy: 0.9653 - val_loss: 0.0112 - val_accuracy: 0.9970\n",
      "Epoch 8/10\n",
      "719/719 [==============================] - 20s 27ms/step - loss: 0.0973 - accuracy: 0.9711 - val_loss: 0.0112 - val_accuracy: 0.9970\n",
      "Epoch 9/10\n",
      "719/719 [==============================] - 20s 28ms/step - loss: 0.0879 - accuracy: 0.9740 - val_loss: 0.0094 - val_accuracy: 0.9980\n",
      "Epoch 10/10\n",
      "719/719 [==============================] - 20s 28ms/step - loss: 0.0821 - accuracy: 0.9750 - val_loss: 0.0148 - val_accuracy: 0.9950\n"
     ]
    },
    {
     "data": {
      "text/plain": [
       "<keras.src.callbacks.History at 0x2b6489be0e0>"
      ]
     },
     "execution_count": 38,
     "metadata": {},
     "output_type": "execute_result"
    }
   ],
   "source": [
    "model8.fit(X_train, y_train ,validation_data = (X_val , y_val) , epochs =10)"
   ]
  },
  {
   "cell_type": "code",
   "execution_count": 39,
   "id": "7719a09f",
   "metadata": {},
   "outputs": [
    {
     "name": "stdout",
     "output_type": "stream",
     "text": [
      "76/76 [==============================] - 3s 11ms/step - loss: 0.1231 - accuracy: 0.9604\n"
     ]
    },
    {
     "data": {
      "text/plain": [
       "[0.12308946251869202, 0.9603960514068604]"
      ]
     },
     "execution_count": 39,
     "metadata": {},
     "output_type": "execute_result"
    }
   ],
   "source": [
    "model8.evaluate(X[24000:] ,  y[24000:])"
   ]
  },
  {
   "cell_type": "code",
   "execution_count": null,
   "id": "af4c1534",
   "metadata": {},
   "outputs": [],
   "source": []
  }
 ],
 "metadata": {
  "kernelspec": {
   "display_name": "Python 3 (ipykernel)",
   "language": "python",
   "name": "python3"
  },
  "language_info": {
   "codemirror_mode": {
    "name": "ipython",
    "version": 3
   },
   "file_extension": ".py",
   "mimetype": "text/x-python",
   "name": "python",
   "nbconvert_exporter": "python",
   "pygments_lexer": "ipython3",
   "version": "3.10.9"
  }
 },
 "nbformat": 4,
 "nbformat_minor": 5
}
